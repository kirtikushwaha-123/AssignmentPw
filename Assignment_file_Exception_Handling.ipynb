{
  "nbformat": 4,
  "nbformat_minor": 0,
  "metadata": {
    "colab": {
      "provenance": []
    },
    "kernelspec": {
      "name": "python3",
      "display_name": "Python 3"
    },
    "language_info": {
      "name": "python"
    }
  },
  "cells": [
    {
      "cell_type": "markdown",
      "source": [
        "1. What is the difference between interpreted and compiled languages?\n",
        "\n",
        "  *   Intrepreted - execute line by line by interpreter.Example - python,etc\n",
        "  *   Complied - Translated as a whole into machine code using a compiler.Example - C,C++ Java etc;\n",
        "\n",
        "\n",
        "2. What is exception handling in Python?\n",
        "\n",
        "  *   Exception handling is the process of detecting and managing errors (called exceptions) that occur during the execution of a program — so that the program doesn't crash and can handle the issue gracefully.\n",
        "\n",
        "\n",
        "\n",
        "3. What is the purpose of the finally block in exception handling?\n",
        "\n",
        "  *   The finally block is used to execute a block of code no matter what — whether an exception occurs or not.\n",
        "\n",
        "\n",
        "\n",
        "4. What is logging in Python?\n",
        "\n",
        "\n",
        "  *   way to track the event that happen while software runs.\n",
        "\n",
        "  it record state and flow your program.\n",
        "\n",
        "  with the help of logging we can find or recording error.\n",
        "\n",
        "\n",
        "5. What is the significance of the __del__ method in Python?\n",
        "\n",
        "  *   The __del__ method is a special method in Python called a destructor. It is automatically called when an object is about to be destroyed (deleted) — i.e., when the object is no longer in use or goes out of scope.\n",
        "\n",
        "\n",
        "\n",
        "6. What is the difference between import and from ... import in Python?\n",
        "\n",
        "  *   import module_name - this impot the entire module\n",
        "\n",
        "  *   from module import specific_name - thsi import only a specific function or varible.\n",
        "\n",
        "7. How can you handle multiple exceptions in Python?\n",
        "\n",
        "  *   using try and multiple except block\n",
        "\n",
        "8. What is the purpose of the with statement when handling files in Python?\n",
        "\n",
        "  *    The purpose of the with statement when handling files is to automatically close the file and release the OS resources allocated to it.\n",
        "\n",
        "9. What is the difference between multithreading and multiprocessing?\n",
        "\n",
        "*   Multithreading\t    Multiprocessing\n",
        "\tThreads \t            Processes\n",
        "  Memory Shared       \tSeparate\n",
        "\tGood- I/O-bound tasks\tGood CPU-bound tasks\n",
        "Python GILA ffected \t Not affected\n",
        " concurrent            parallel\n",
        "\n",
        "\n",
        "10. What are the advantages of using logging in a program?\n",
        "\n",
        "  *   Advantages of using logging:\n",
        "\n",
        "      -> Easier debugging and maintenance\n",
        "\n",
        "      -> Permanent record of program activity\n",
        "\n",
        "      -> Severity-based filtering\n",
        "\n",
        "11. What is memory management in Python?\n",
        "\n",
        "  *   Allocating, using, and releasing memory efficiently during the execution of a program.\n",
        "\n",
        "12. What are the basic steps involved in exception handling in Python?\n",
        "\n",
        "  *   We have differnet block\n",
        "\n",
        "      Try Block - where code the might raise the exceptioin inside the try block\n",
        "\n",
        "      Except Block - handle the specific exception or multiple exception\n",
        "\n",
        "      Else Block - this block only execute when no exception occure in try block\n",
        "\n",
        "      Finally Block - This block always run, no matter exception occre or not.\n",
        "\n",
        "\n",
        "13. Why is memory management important in Python?\n",
        "\n",
        "  *   Memory management is the process of efficiently allocating, using, and freeing up memory during a program’s execution. In Python, memory management is handled automatically\n",
        "\n",
        "14. What is the role of try and except in exception handling?\n",
        "\n",
        "  *   Try Block - where code the might raise the exceptioin inside the try block\n",
        "\n",
        "     Except Block - handle the specific exception or multiple exception\n",
        "\n",
        "15. How does Python's garbage collection system work?\n",
        "\n",
        "  *   Python's garbage collection (GC) system automatically frees up memory by deleting objects that are no longer needed, making your code more efficient and memory-safe.\n",
        "\n",
        "16. What is the purpose of the else block in exception handling?\n",
        "\n",
        "  *   Garbage Collection (GC) is a process by which Python automatically frees up memory by deleting objects that are no longer in use, so the system doesn’t run out of memory.\n",
        "\n",
        "\n",
        "17.  What are the common logging levels in Python?\n",
        "\n",
        "  *   Level      Value\n",
        "      DEBUG       10\n",
        "      INFO        20\n",
        "      WARNING     30\n",
        "      ERROR       40\n",
        "      CRITICAL    50\n",
        "\n",
        "18. What is the difference between os.fork() and multiprocessing in Python?\n",
        "\n",
        "   *   Use multiprocessing if you want safe, cross-platform parallel processing.\n",
        "\n",
        "      Use os.fork() only if you're on Linux/Unix and need low-level control.\n",
        "\n",
        "\n",
        "19. What is the importance of closing a file in Python?\n",
        "\n",
        "    *   Releases system resources (like memory and file handles).\n",
        "\n",
        "      Ensures all data is written (flushes the buffer to disk).\n",
        "\n",
        "\n",
        "20. What is the difference between file.read() and file.readline() in Python?\n",
        "\n",
        "    *   file.read() - read entire content of file (single string).\n",
        "\n",
        "        file.readline() - only one line at a time (single line string(\\n))\n",
        "\n",
        "21. What is the logging module in Python used for?\n",
        "\n",
        "  *   The logging module in Python is used to:  Track events, errors, and information during the execution of a program in a clean, consistent, and configurable way.\n",
        "\n",
        "22. What is the os module in Python used for in file handling ?\n",
        "\n",
        "  *   The os module in Python provides a way to interact with the operating system, especially for file and directory handling.\n",
        "\n",
        "23. What are the challenges associated with memory management in Python?\n",
        "\n",
        "  *   Memory Leaks - Python sometimes keeps objects in memory even when they are no longer needed. This happens when:\n",
        "\n",
        "  We forget to delete large variables.\n",
        "\n",
        "  Circular References\n",
        "  A circular reference occurs when two or more objects refer to each other\n",
        "\n",
        "\n",
        "24.  How do you raise an exception manually in Python ?\n",
        "\n",
        "  *   In Python, you can manually raise an exception using the raise keyword.\n",
        "\n",
        "25. Why is it important to use multithreading in certain applications?\n",
        "\n",
        "\n",
        "  *    Multithreading allows a program to run multiple tasks at the same time within a single process.\n",
        "\n",
        "\n"
      ],
      "metadata": {
        "id": "sfR3gjcuo1ib"
      }
    },
    {
      "cell_type": "code",
      "execution_count": null,
      "metadata": {
        "id": "JJPRdwV_oxar"
      },
      "outputs": [],
      "source": []
    },
    {
      "cell_type": "markdown",
      "source": [
        "1. How can you open a file for writing in Python and write a string to it ?\n",
        "\n"
      ],
      "metadata": {
        "id": "_Q9ZX44QpB4b"
      }
    },
    {
      "cell_type": "code",
      "source": [
        "with open(\"file.txt\",'w') as f:\n",
        "  f.write(\"Hello, How are you ?\\n\")\n",
        "  f.write(\"What going on.\\n\")\n",
        "  f.write(\"Have you completed your work\\n\")\n",
        "\n"
      ],
      "metadata": {
        "id": "3LRexCM-l2v8"
      },
      "execution_count": null,
      "outputs": []
    },
    {
      "cell_type": "markdown",
      "source": [
        "2. Write a Python program to read the contents of a file and print each line?"
      ],
      "metadata": {
        "id": "uW21FSahsN66"
      }
    },
    {
      "cell_type": "code",
      "source": [
        "try:\n",
        "  with open(\"file.txt\",'r') as f:\n",
        "    for line in f:\n",
        "      print(line)\n",
        "\n",
        "except FileNotFoundError as e:\n",
        "  print(\"File is not created to read the file \",e)\n",
        "\n"
      ],
      "metadata": {
        "colab": {
          "base_uri": "https://localhost:8080/"
        },
        "id": "M8A-jkOqmRP3",
        "outputId": "0a10b6d6-d218-40c2-ee02-d15ea77eb2f0"
      },
      "execution_count": null,
      "outputs": [
        {
          "output_type": "stream",
          "name": "stdout",
          "text": [
            "Hello, How are you ?\n",
            "\n",
            "What going on.\n",
            "\n",
            "Have you completed your work\n",
            "\n"
          ]
        }
      ]
    },
    {
      "cell_type": "markdown",
      "source": [
        "3. How would you handle a case where the file doesn't exist while trying to open it for reading?"
      ],
      "metadata": {
        "id": "9dxeV7rSsI_Y"
      }
    },
    {
      "cell_type": "code",
      "source": [
        "try:\n",
        "  with open(\"file11.txt\",'r') as f: # here file is not created\n",
        "    for line in f:\n",
        "      print(line)\n",
        "\n",
        "except FileNotFoundError as e:\n",
        "  print(\"File is not created to read the file \",e)\n",
        "\n"
      ],
      "metadata": {
        "colab": {
          "base_uri": "https://localhost:8080/"
        },
        "id": "JcAi7n9ln7jq",
        "outputId": "6a6d813b-14c1-4458-b5eb-1c38812c0f10"
      },
      "execution_count": null,
      "outputs": [
        {
          "output_type": "stream",
          "name": "stdout",
          "text": [
            "File is not created to read the file  [Errno 2] No such file or directory: 'file11.txt'\n"
          ]
        }
      ]
    },
    {
      "cell_type": "markdown",
      "source": [
        "4. Write a Python script that reads from one file and writes its content to another file ?"
      ],
      "metadata": {
        "id": "N6wkvTktsFza"
      }
    },
    {
      "cell_type": "code",
      "source": [
        "try:\n",
        "    # Open source file in read mode\n",
        "    with open(\"file.txt\", \"r\") as source_file:\n",
        "        content = source_file.read()\n",
        "\n",
        "    # Open destination file in write mode\n",
        "    with open(\"destination.txt\", \"w\") as dest_file:\n",
        "        dest_file.write(content)\n",
        "\n",
        "    print(\"File copied successfully!\")\n",
        "\n",
        "except FileNotFoundError as e:\n",
        "    print(\"Source file not found:\", e)\n",
        "\n",
        "except Exception as e:\n",
        "    print(\"An error occurred:\", e)\n"
      ],
      "metadata": {
        "colab": {
          "base_uri": "https://localhost:8080/"
        },
        "id": "NtsqSQAHoZR8",
        "outputId": "d4bdf881-2b24-4b3d-f24a-a252e171e097"
      },
      "execution_count": null,
      "outputs": [
        {
          "output_type": "stream",
          "name": "stdout",
          "text": [
            "File copied successfully!\n"
          ]
        }
      ]
    },
    {
      "cell_type": "markdown",
      "source": [
        "5. How would you catch and handle division by zero error in Python ?"
      ],
      "metadata": {
        "id": "aSwswWUNsBkp"
      }
    },
    {
      "cell_type": "code",
      "source": [
        "try:\n",
        "  a=10\n",
        "  b=0\n",
        "  c = a/b\n",
        "\n",
        "except ZeroDivisionError as e:\n",
        "  print(\"Error, division by zero :\",e)\n",
        "\n",
        "else :\n",
        "  print(c)\n",
        "\n"
      ],
      "metadata": {
        "colab": {
          "base_uri": "https://localhost:8080/"
        },
        "id": "xU8oN9E5oklo",
        "outputId": "96ef1ea7-32fc-4e10-f37f-80cf94c02a85"
      },
      "execution_count": null,
      "outputs": [
        {
          "output_type": "stream",
          "name": "stdout",
          "text": [
            "Error, division by zero : division by zero\n"
          ]
        }
      ]
    },
    {
      "cell_type": "markdown",
      "source": [
        "6. Write a Python program that logs an error message to a log file when a division by zero exception occurs?"
      ],
      "metadata": {
        "id": "nvJzmUXsr8nV"
      }
    },
    {
      "cell_type": "code",
      "source": [
        "import logging\n",
        "\n",
        "\n",
        "logging.basicConfig(\n",
        "    filename='error.log',\n",
        "    level=logging.ERROR,\n",
        "    format='%(asctime)s - %(levelname)s - %(message)s'\n",
        ")\n",
        "\n",
        "def division(a, b):\n",
        "    try:\n",
        "        res = a / b\n",
        "        print(\"Result:\", res)\n",
        "    except ZeroDivisionError as e:\n",
        "        logging.error(\"Division by zero error occurred: %s\", e)\n",
        "        print(\"Error: Cannot divide by zero\")\n",
        "\n",
        "# Call the function with b = 0\n",
        "division(3, 0)\n"
      ],
      "metadata": {
        "colab": {
          "base_uri": "https://localhost:8080/"
        },
        "id": "k4C6lUPgeH7l",
        "outputId": "4d5f2429-7150-4c95-dd92-5fb584f64639"
      },
      "execution_count": null,
      "outputs": [
        {
          "output_type": "stream",
          "name": "stderr",
          "text": [
            "ERROR:root:Division by zero error occurred: division by zero\n"
          ]
        },
        {
          "output_type": "stream",
          "name": "stdout",
          "text": [
            "Error: Cannot divide by zero\n"
          ]
        }
      ]
    },
    {
      "cell_type": "markdown",
      "source": [
        "7. How do you log information at different levels (INFO, ERROR, WARNING) in Python using the logging module ?"
      ],
      "metadata": {
        "id": "awifrFilrvjf"
      }
    },
    {
      "cell_type": "code",
      "source": [
        "import logging\n",
        "\n",
        "\n",
        "logging.basicConfig(\n",
        "    filename='app.log',\n",
        "    level=logging.DEBUG,  # Logs everything DEBUG and above\n",
        "    format='%(levelname)s - %(message)s'\n",
        ")\n",
        "\n",
        "\n",
        "logging.debug(\"This is a DEBUG message – for debugging\")\n",
        "logging.info(\"This is an INFO message – normal info\")\n",
        "logging.warning(\"This is a WARNING – something might be wrong\")\n",
        "logging.error(\"This is an ERROR – something went wrong\")\n",
        "logging.critical(\"This is CRITICAL – the program might crash!\")\n"
      ],
      "metadata": {
        "colab": {
          "base_uri": "https://localhost:8080/"
        },
        "id": "Ls8eoM6zgGkQ",
        "outputId": "7ba419ee-2270-44d1-e22a-7431628e6818"
      },
      "execution_count": null,
      "outputs": [
        {
          "output_type": "stream",
          "name": "stderr",
          "text": [
            "WARNING:root:This is a WARNING – something might be wrong\n",
            "ERROR:root:This is an ERROR – something went wrong\n",
            "CRITICAL:root:This is CRITICAL – the program might crash!\n"
          ]
        }
      ]
    },
    {
      "cell_type": "markdown",
      "source": [
        "8. Write a program to handle a file opening error using exception handling?"
      ],
      "metadata": {
        "id": "fjQiKlwtrrvj"
      }
    },
    {
      "cell_type": "code",
      "source": [
        "try:\n",
        "    # Attempt to open a file that may not exist\n",
        "    with open(\"myfile.txt\", \"r\") as file:\n",
        "        content = file.read()\n",
        "        print(\"File content:\")\n",
        "        print(content)\n",
        "\n",
        "except FileNotFoundError:\n",
        "    print(\"Error: The file you are trying to open does not exist.\")\n",
        "\n",
        "except Exception as e:\n",
        "    print(\"An unexpected error occurred:\", e)\n"
      ],
      "metadata": {
        "colab": {
          "base_uri": "https://localhost:8080/"
        },
        "id": "VeYsWD74pEW1",
        "outputId": "2f489bbe-ecdd-40f6-cfe1-30ec5b7a7754"
      },
      "execution_count": null,
      "outputs": [
        {
          "output_type": "stream",
          "name": "stdout",
          "text": [
            "Error: The file you are trying to open does not exist.\n"
          ]
        }
      ]
    },
    {
      "cell_type": "markdown",
      "source": [
        "9. How can you read a file line by line and store its content in a list in Python ?"
      ],
      "metadata": {
        "id": "MCyZ6o7UrjHX"
      }
    },
    {
      "cell_type": "code",
      "source": [
        "try:\n",
        "  with open(\"file.txt\",'r') as f:\n",
        "    for i in f.readlines():\n",
        "      print(i)\n",
        "\n",
        "except FileNotFoundError as e:\n",
        "  print(\"File is not created to read the file \",e)\n",
        "\n"
      ],
      "metadata": {
        "colab": {
          "base_uri": "https://localhost:8080/"
        },
        "id": "_pUhhUhhpQ48",
        "outputId": "7f4f1d99-f209-4875-eb3f-0283fb83c7df"
      },
      "execution_count": null,
      "outputs": [
        {
          "output_type": "stream",
          "name": "stdout",
          "text": [
            "Hello, How are you ?\n",
            "\n",
            "What going on.\n",
            "\n",
            "Have you completed your work\n",
            "\n"
          ]
        }
      ]
    },
    {
      "cell_type": "markdown",
      "source": [
        "10. How can you append data to an existing file in Python ?"
      ],
      "metadata": {
        "id": "2ffiKB7Yrd76"
      }
    },
    {
      "cell_type": "code",
      "source": [
        "try:\n",
        "  with open(\"file.txt\",'a') as f:\n",
        "    f.write(\"This is the additional file which is append into the exesting file\")\n",
        "\n",
        "except FileNotFoundError as e:\n",
        "  print(\"File is not created to read the file \",e)\n",
        "\n",
        "else:\n",
        "  with open(\"file.txt\",'r') as f:\n",
        "    for i in f.readlines():\n",
        "      print(i)\n",
        "\n"
      ],
      "metadata": {
        "colab": {
          "base_uri": "https://localhost:8080/"
        },
        "id": "-Wk6HQxVpsa_",
        "outputId": "af4cff88-4c43-482c-b8ad-35dbe95da526"
      },
      "execution_count": null,
      "outputs": [
        {
          "output_type": "stream",
          "name": "stdout",
          "text": [
            "Hello, How are you ?\n",
            "\n",
            "What going on.\n",
            "\n",
            "Have you completed your work\n",
            "\n",
            "This is the additional file which is append into the exesting file\n"
          ]
        }
      ]
    },
    {
      "cell_type": "markdown",
      "source": [
        "11. Write a Python program that uses a try-except block to handle an error when attempting to access a\n",
        "dictionary key that doesn't exist ?"
      ],
      "metadata": {
        "id": "jwcJKacNrZHp"
      }
    },
    {
      "cell_type": "code",
      "source": [
        "# Sample dictionary\n",
        "student = {\n",
        "    \"name\": \"Kirti\",\n",
        "    \"age\": 22\n",
        "}\n",
        "\n",
        "# Try to access a non-existent key\n",
        "try:\n",
        "    print(\"Student's grade is:\", student[\"grade\"])  # 'grade' key does not exist\n",
        "except KeyError as e:\n",
        "    print(f\"Error: The key {e} does not exist in the dictionary.\")\n"
      ],
      "metadata": {
        "colab": {
          "base_uri": "https://localhost:8080/"
        },
        "id": "o47rt8O0gSO0",
        "outputId": "8bb5db87-8e90-41a5-f5d1-d4607887df0d"
      },
      "execution_count": null,
      "outputs": [
        {
          "output_type": "stream",
          "name": "stdout",
          "text": [
            "Error: The key 'grade' does not exist in the dictionary.\n"
          ]
        }
      ]
    },
    {
      "cell_type": "markdown",
      "source": [
        "12. Write a program that demonstrates using multiple except blocks to handle different types of exceptions?"
      ],
      "metadata": {
        "id": "Z5a75ZpIrDR-"
      }
    },
    {
      "cell_type": "code",
      "source": [
        "try:\n",
        "    num1 = int(input(\"Enter a number: \"))\n",
        "    num2 = int(input(\"Enter another number: \"))\n",
        "\n",
        "    result = num1 / num2\n",
        "    print(\"Result:\", result)\n",
        "\n",
        "    with open(\"example.txt\", \"r\") as file:\n",
        "        content = file.read()\n",
        "        print(\"File content:\", content)\n",
        "\n",
        "except ValueError:\n",
        "    print(\"Error: Please enter only numeric values.\")\n",
        "\n",
        "except ZeroDivisionError:\n",
        "    print(\"Error: Division by zero is not allowed.\")\n",
        "\n",
        "except FileNotFoundError:\n",
        "    print(\"Error: The file you are trying to open was not found.\")\n",
        "\n",
        "except Exception as e:\n",
        "    print(\"An unexpected error occurred:\", e)\n"
      ],
      "metadata": {
        "colab": {
          "base_uri": "https://localhost:8080/"
        },
        "id": "CC-XQeMjqZEU",
        "outputId": "02b1393d-7875-4ecc-b87e-d0a49c72cebc"
      },
      "execution_count": null,
      "outputs": [
        {
          "output_type": "stream",
          "name": "stdout",
          "text": [
            "Enter a number: 34\n",
            "Enter another number: 0\n",
            "Error: Division by zero is not allowed.\n"
          ]
        }
      ]
    },
    {
      "cell_type": "markdown",
      "source": [
        "13. How would you check if a file exists before attempting to read it in Python?"
      ],
      "metadata": {
        "id": "y8qcOh_Zq00P"
      }
    },
    {
      "cell_type": "code",
      "source": [
        "import os\n",
        "\n",
        "file_path = \"myfile.txt\"\n",
        "\n",
        "if os.path.exists(file_path):\n",
        "    with open(file_path, 'r') as f:\n",
        "        content = f.read()\n",
        "        print(\"File content:\", content)\n",
        "else:\n",
        "    print(\"File does not exist.\")\n"
      ],
      "metadata": {
        "colab": {
          "base_uri": "https://localhost:8080/"
        },
        "id": "WNjHnKxbgXMt",
        "outputId": "eac4bc3c-9c4a-42a1-d83f-b37ba0fbd902"
      },
      "execution_count": null,
      "outputs": [
        {
          "output_type": "stream",
          "name": "stdout",
          "text": [
            "File does not exist.\n"
          ]
        }
      ]
    },
    {
      "cell_type": "markdown",
      "source": [
        "14. Write a program that uses the logging module to log both informational and error messages?"
      ],
      "metadata": {
        "id": "IPb2CW-wqRYa"
      }
    },
    {
      "cell_type": "code",
      "source": [
        "import logging\n",
        "\n",
        "# Configure logging\n",
        "logging.basicConfig(\n",
        "    filename='app_log.log',\n",
        "    level=logging.DEBUG,  # Log all levels from DEBUG and above\n",
        "    format='%(asctime)s - %(levelname)s - %(message)s',\n",
        "    force=True\n",
        ")\n",
        "\n",
        "def divide(a, b):\n",
        "    logging.info(f\"Trying to divide {a} by {b}\")\n",
        "    try:\n",
        "        result = a / b\n",
        "        logging.info(f\"Result is: {result}\")\n",
        "        return result\n",
        "    except ZeroDivisionError as e:\n",
        "        logging.error(\"Division by zero error occurred.\")\n",
        "        return None\n",
        "\n",
        "# Run some test cases\n",
        "divide(10, 2)   # INFO messages\n",
        "divide(10, 0)   # ERROR message\n"
      ],
      "metadata": {
        "id": "ENuQEGblguYO"
      },
      "execution_count": null,
      "outputs": []
    },
    {
      "cell_type": "markdown",
      "source": [
        "15. Write a Python program that prints the content of a file and handles the case when the file is empty?\n"
      ],
      "metadata": {
        "id": "mXNUkbWip95h"
      }
    },
    {
      "cell_type": "code",
      "source": [
        "def read_file(filename):\n",
        "  try:\n",
        "    with open(filename,'r') as f:\n",
        "      content = f.read()\n",
        "\n",
        "    if not content:\n",
        "      print(\"File is empty, there is no content in file\")\n",
        "    else:\n",
        "      print(\"Content of file is : \", content)\n",
        "\n",
        "  except FileNotFoundError as e:\n",
        "    print(f\"File {filename} is not found\")\n",
        "\n",
        "  except Exception as e:\n",
        "    print(f\"An unexpected error occurred: {e}\")\n",
        "\n",
        "\n",
        "read_file(\"sample.txt\")"
      ],
      "metadata": {
        "colab": {
          "base_uri": "https://localhost:8080/"
        },
        "id": "3KQqatGZLa_t",
        "outputId": "1d1fd234-293e-490e-fdd8-79282287fb29"
      },
      "execution_count": 13,
      "outputs": [
        {
          "output_type": "stream",
          "name": "stdout",
          "text": [
            "File sample.txt is not found\n"
          ]
        }
      ]
    },
    {
      "cell_type": "markdown",
      "source": [
        "16. Demonstrate how to use memory profiling to check the memory usage of a small program?"
      ],
      "metadata": {
        "id": "x0kbFpJWp6Uf"
      }
    },
    {
      "cell_type": "code",
      "source": [
        "from memory_profiler import profile\n",
        "\n",
        "@profile\n",
        "def create_large_list():\n",
        "    a = [i for i in range(1000000)]\n",
        "    b = sum(a)\n",
        "    return b\n",
        "\n",
        "if __name__ == \"__main__\":\n",
        "    create_large_list()\n"
      ],
      "metadata": {
        "colab": {
          "base_uri": "https://localhost:8080/",
          "height": 383
        },
        "id": "23XZ0cbwiIRD",
        "outputId": "c6818f30-6f26-451e-c3fd-3684b9112a91"
      },
      "execution_count": 20,
      "outputs": [
        {
          "output_type": "error",
          "ename": "ModuleNotFoundError",
          "evalue": "No module named 'memory_profiler'",
          "traceback": [
            "\u001b[0;31m---------------------------------------------------------------------------\u001b[0m",
            "\u001b[0;31mModuleNotFoundError\u001b[0m                       Traceback (most recent call last)",
            "\u001b[0;32m/tmp/ipython-input-20-1436096417.py\u001b[0m in \u001b[0;36m<cell line: 0>\u001b[0;34m()\u001b[0m\n\u001b[0;32m----> 1\u001b[0;31m \u001b[0;32mfrom\u001b[0m \u001b[0mmemory_profiler\u001b[0m \u001b[0;32mimport\u001b[0m \u001b[0mprofile\u001b[0m\u001b[0;34m\u001b[0m\u001b[0;34m\u001b[0m\u001b[0m\n\u001b[0m\u001b[1;32m      2\u001b[0m \u001b[0;34m\u001b[0m\u001b[0m\n\u001b[1;32m      3\u001b[0m \u001b[0;34m@\u001b[0m\u001b[0mprofile\u001b[0m\u001b[0;34m\u001b[0m\u001b[0;34m\u001b[0m\u001b[0m\n\u001b[1;32m      4\u001b[0m \u001b[0;32mdef\u001b[0m \u001b[0mcreate_large_list\u001b[0m\u001b[0;34m(\u001b[0m\u001b[0;34m)\u001b[0m\u001b[0;34m:\u001b[0m\u001b[0;34m\u001b[0m\u001b[0;34m\u001b[0m\u001b[0m\n\u001b[1;32m      5\u001b[0m     \u001b[0ma\u001b[0m \u001b[0;34m=\u001b[0m \u001b[0;34m[\u001b[0m\u001b[0mi\u001b[0m \u001b[0;32mfor\u001b[0m \u001b[0mi\u001b[0m \u001b[0;32min\u001b[0m \u001b[0mrange\u001b[0m\u001b[0;34m(\u001b[0m\u001b[0;36m1000000\u001b[0m\u001b[0;34m)\u001b[0m\u001b[0;34m]\u001b[0m\u001b[0;34m\u001b[0m\u001b[0;34m\u001b[0m\u001b[0m\n",
            "\u001b[0;31mModuleNotFoundError\u001b[0m: No module named 'memory_profiler'",
            "",
            "\u001b[0;31m---------------------------------------------------------------------------\u001b[0;32m\nNOTE: If your import is failing due to a missing package, you can\nmanually install dependencies using either !pip or !apt.\n\nTo view examples of installing some common dependencies, click the\n\"Open Examples\" button below.\n\u001b[0;31m---------------------------------------------------------------------------\u001b[0m\n"
          ],
          "errorDetails": {
            "actions": [
              {
                "action": "open_url",
                "actionText": "Open Examples",
                "url": "/notebooks/snippets/importing_libraries.ipynb"
              }
            ]
          }
        }
      ]
    },
    {
      "cell_type": "markdown",
      "source": [
        "17. Write a Python program to create and write a list of numbers to a file, one number per line?"
      ],
      "metadata": {
        "id": "AivV6F6SpxzE"
      }
    },
    {
      "cell_type": "code",
      "source": [
        "numbers = [10, 20, 30, 40, 50]\n",
        "\n",
        "filename = \"numbers.txt\"\n",
        "\n",
        "with open(filename, 'w') as file:\n",
        "    for number in numbers:\n",
        "        file.write(str(number) + '\\n')\n",
        "\n",
        "print(f\"Numbers written successfully to '{filename}'\")\n"
      ],
      "metadata": {
        "colab": {
          "base_uri": "https://localhost:8080/"
        },
        "id": "G3Qy1jqbjCRB",
        "outputId": "ce02c26c-02b5-41e3-8703-cb26d0f0e6d6"
      },
      "execution_count": 22,
      "outputs": [
        {
          "output_type": "stream",
          "name": "stdout",
          "text": [
            "Numbers written successfully to 'numbers.txt'\n"
          ]
        }
      ]
    },
    {
      "cell_type": "markdown",
      "source": [
        "18. How would you implement a basic logging setup that logs to a file with rotation after 1MB?"
      ],
      "metadata": {
        "id": "-rr0Kn2kprmW"
      }
    },
    {
      "cell_type": "code",
      "source": [
        "import logging\n",
        "from logging.handlers import RotatingFileHandler\n",
        "\n",
        "handler = RotatingFileHandler(\n",
        "    \"rotating_log.log\",\n",
        "    maxBytes=1*1024*1024,\n",
        "    backupCount=5\n",
        ")\n",
        "\n",
        "formatter = logging.Formatter('%(asctime)s - %(levelname)s - %(message)s')\n",
        "handler.setFormatter(formatter)\n",
        "\n",
        "logger = logging.getLogger(\"my_logger\")\n",
        "logger.setLevel(logging.DEBUG)  # Log all levels\n",
        "logger.addHandler(handler)\n",
        "\n",
        "for i in range(10000):\n",
        "    logger.info(f\"This is log message number {i}\")\n"
      ],
      "metadata": {
        "id": "JRgpmB4bjW0t"
      },
      "execution_count": 24,
      "outputs": []
    },
    {
      "cell_type": "markdown",
      "source": [
        "19. Write a program that handles both IndexError and KeyError using a try-except blockF"
      ],
      "metadata": {
        "id": "q7ilXWpSpcaW"
      }
    },
    {
      "cell_type": "code",
      "source": [
        "def handle_errors():\n",
        "    my_list = [10, 20, 30]\n",
        "    my_dict = {\"name\": \"Kirti\", \"age\": 22}\n",
        "\n",
        "    try:\n",
        "        # Try accessing an invalid list index\n",
        "        print(\"List value:\", my_list[5])\n",
        "\n",
        "        # Try accessing a missing dictionary key\n",
        "        print(\"Grade:\", my_dict[\"grade\"])\n",
        "\n",
        "    except IndexError as ie:\n",
        "        print(\"IndexError occurred:\", ie)\n",
        "\n",
        "    except KeyError as ke:\n",
        "        print(\"KeyError occurred:\", ke)\n",
        "\n",
        "handle_errors()\n"
      ],
      "metadata": {
        "colab": {
          "base_uri": "https://localhost:8080/"
        },
        "id": "Solkv7WzhRor",
        "outputId": "eba7c856-95bd-4b8d-b3bf-b8c48646166a"
      },
      "execution_count": null,
      "outputs": [
        {
          "output_type": "stream",
          "name": "stdout",
          "text": [
            "IndexError occurred: list index out of range\n"
          ]
        }
      ]
    },
    {
      "cell_type": "markdown",
      "source": [
        "20. How would you open a file and read its contents using a context manager in Python?"
      ],
      "metadata": {
        "id": "CGVi2dLDpVmr"
      }
    },
    {
      "cell_type": "code",
      "source": [
        "filename = \"sample.txt\"\n",
        "\n",
        "# Using a context manager to open and read the file\n",
        "with open(filename, 'r') as file:\n",
        "  content = file.read()\n",
        "  print(\"File Content:\\n\", content)\n"
      ],
      "metadata": {
        "colab": {
          "base_uri": "https://localhost:8080/",
          "height": 211
        },
        "id": "nd1LzK4GjtzK",
        "outputId": "bd2360d2-eb30-4147-8196-db5d01823b09"
      },
      "execution_count": 26,
      "outputs": [
        {
          "output_type": "error",
          "ename": "FileNotFoundError",
          "evalue": "[Errno 2] No such file or directory: 'sample.txt'",
          "traceback": [
            "\u001b[0;31m---------------------------------------------------------------------------\u001b[0m",
            "\u001b[0;31mFileNotFoundError\u001b[0m                         Traceback (most recent call last)",
            "\u001b[0;32m/tmp/ipython-input-26-3876756726.py\u001b[0m in \u001b[0;36m<cell line: 0>\u001b[0;34m()\u001b[0m\n\u001b[1;32m      2\u001b[0m \u001b[0;34m\u001b[0m\u001b[0m\n\u001b[1;32m      3\u001b[0m \u001b[0;31m# Using a context manager to open and read the file\u001b[0m\u001b[0;34m\u001b[0m\u001b[0;34m\u001b[0m\u001b[0m\n\u001b[0;32m----> 4\u001b[0;31m \u001b[0;32mwith\u001b[0m \u001b[0mopen\u001b[0m\u001b[0;34m(\u001b[0m\u001b[0mfilename\u001b[0m\u001b[0;34m,\u001b[0m \u001b[0;34m'r'\u001b[0m\u001b[0;34m)\u001b[0m \u001b[0;32mas\u001b[0m \u001b[0mfile\u001b[0m\u001b[0;34m:\u001b[0m\u001b[0;34m\u001b[0m\u001b[0;34m\u001b[0m\u001b[0m\n\u001b[0m\u001b[1;32m      5\u001b[0m   \u001b[0mcontent\u001b[0m \u001b[0;34m=\u001b[0m \u001b[0mfile\u001b[0m\u001b[0;34m.\u001b[0m\u001b[0mread\u001b[0m\u001b[0;34m(\u001b[0m\u001b[0;34m)\u001b[0m\u001b[0;34m\u001b[0m\u001b[0;34m\u001b[0m\u001b[0m\n\u001b[1;32m      6\u001b[0m   \u001b[0mprint\u001b[0m\u001b[0;34m(\u001b[0m\u001b[0;34m\"File Content:\\n\"\u001b[0m\u001b[0;34m,\u001b[0m \u001b[0mcontent\u001b[0m\u001b[0;34m)\u001b[0m\u001b[0;34m\u001b[0m\u001b[0;34m\u001b[0m\u001b[0m\n",
            "\u001b[0;31mFileNotFoundError\u001b[0m: [Errno 2] No such file or directory: 'sample.txt'"
          ]
        }
      ]
    },
    {
      "cell_type": "markdown",
      "source": [
        "21. Write a Python program that reads a file and prints the number of occurrences of a specific word?"
      ],
      "metadata": {
        "id": "PG3HEhXDpRXX"
      }
    },
    {
      "cell_type": "code",
      "source": [
        "def count_word_in_file(filename, word_to_find):\n",
        "    try:\n",
        "        with open(filename, 'r') as file:\n",
        "            content = file.read().lower()\n",
        "            word_to_find = word_to_find.lower()\n",
        "\n",
        "            words = content.split()\n",
        "            count = words.count(word_to_find)\n",
        "\n",
        "            print(f\"The word '{word_to_find}' occurred {count} times in '{filename}'.\")\n",
        "\n",
        "    except FileNotFoundError:\n",
        "        print(f\"Error: The file '{filename}' does not exist.\")\n",
        "    except Exception as e:\n",
        "        print(f\"An error occurred: {e}\")\n",
        "\n",
        "# Example usage\n",
        "file_name = input(\"Enter filename: \")\n",
        "target_word = input(\"Enter word to count: \")\n",
        "\n",
        "count_word_in_file(file_name, target_word)\n"
      ],
      "metadata": {
        "colab": {
          "base_uri": "https://localhost:8080/"
        },
        "id": "DRdBICQNkZPs",
        "outputId": "12bc2c98-461a-4a05-d3cb-75da3b5d03f3"
      },
      "execution_count": 27,
      "outputs": [
        {
          "output_type": "stream",
          "name": "stdout",
          "text": [
            "Enter filename: notes.txt\n",
            "Enter word to count: python is great\n",
            "Error: The file 'notes.txt' does not exist.\n"
          ]
        }
      ]
    },
    {
      "cell_type": "markdown",
      "source": [
        "22. How can you check if a file is empty before attempting to read its contents?"
      ],
      "metadata": {
        "id": "7llXrtjnpJX3"
      }
    },
    {
      "cell_type": "code",
      "source": [
        "import os\n",
        "\n",
        "file_path = \"sample.txt\"\n",
        "\n",
        "# Check if file exists and is not empty\n",
        "if os.path.exists(file_path):\n",
        "    if os.path.getsize(file_path) == 0:\n",
        "        print(\"The file is empty.\")\n",
        "    else:\n",
        "        with open(file_path, 'r') as f:\n",
        "            content = f.read()\n",
        "            print(\"File content:\\n\", content)\n",
        "else:\n",
        "    print(\"File does not exist.\")\n"
      ],
      "metadata": {
        "colab": {
          "base_uri": "https://localhost:8080/"
        },
        "id": "7FY-x0DpkqrV",
        "outputId": "8a908721-c4d8-40b4-accb-0ceefe5cc668"
      },
      "execution_count": 28,
      "outputs": [
        {
          "output_type": "stream",
          "name": "stdout",
          "text": [
            "File does not exist.\n"
          ]
        }
      ]
    },
    {
      "cell_type": "markdown",
      "source": [
        "23 Write a Python program that writes to a log file when an error occurs during file handling."
      ],
      "metadata": {
        "id": "4uVZ1Q_0pG3s"
      }
    },
    {
      "cell_type": "code",
      "source": [
        "import logging\n",
        "\n",
        "# Setup logging\n",
        "logging.basicConfig(\n",
        "    filename='file_error.log',\n",
        "    level=logging.ERROR,\n",
        "    format='%(asctime)s - %(levelname)s - %(message)s'\n",
        ")\n",
        "\n",
        "def read_file(filename):\n",
        "    try:\n",
        "        with open(filename, 'r') as f:\n",
        "            content = f.read()\n",
        "            print(\"File Content:\\n\", content)\n",
        "\n",
        "    except FileNotFoundError as e:\n",
        "        logging.error(f\"FileNotFoundError: {e}\")\n",
        "        print(f\"Error: The file '{filename}' was not found.\")\n",
        "\n",
        "    except Exception as e:\n",
        "        logging.error(f\"Unexpected error: {e}\")\n",
        "        print(f\"An unexpected error occurred: {e}\")\n",
        "\n",
        "# Test the function with a file name\n",
        "read_file(\"non_existent_file.txt\")\n"
      ],
      "metadata": {
        "id": "G-vI64cXpBTY",
        "colab": {
          "base_uri": "https://localhost:8080/"
        },
        "outputId": "ec027d13-e7e2-41b1-dc13-00dbcc68bd88"
      },
      "execution_count": 29,
      "outputs": [
        {
          "output_type": "stream",
          "name": "stdout",
          "text": [
            "Error: The file 'non_existent_file.txt' was not found.\n"
          ]
        }
      ]
    },
    {
      "cell_type": "markdown",
      "source": [],
      "metadata": {
        "id": "tt3OXHXYknrC"
      }
    }
  ]
}