{
  "nbformat": 4,
  "nbformat_minor": 0,
  "metadata": {
    "colab": {
      "provenance": []
    },
    "kernelspec": {
      "name": "python3",
      "display_name": "Python 3"
    },
    "language_info": {
      "name": "python"
    }
  },
  "cells": [
    {
      "cell_type": "markdown",
      "source": [
        "1. What are data structures, and why are they important?\n",
        "    -> Data structures are ways of organizing and storing data in a computer so that it can be accessed and modified efficiently.\n",
        "   \n",
        "    Importance of data structures :-\n",
        "\n",
        "    1 - Efficiency: Good data structures make your programs faster and use less memory.\n",
        "\n",
        "    2 - Problem Solving: Many coding problems (especially in Data Structures & Algorithms or Dynamic Programming) require the right structure.\n",
        "\n",
        "\n",
        "2.  Explain the difference between mutable and immutable data types with examples ?\n",
        "\n",
        "  -> Mutable : Object that can changed after creation.\n",
        "       Example - list,dictionary,set etc.\n",
        "\n",
        "     Immutable : Object that cannot changed after creation.\n",
        "       Example - tuple,string etc.\n",
        "\n",
        "3. What are the main differences between lists and tuples in Python ?\n",
        "\n",
        "  -> List            Tuple\n",
        "\n",
        "     Mutable         Immutable\n",
        "\n",
        "     Symbol - []     Symbol-()\n",
        "\n",
        "     slow performance high performance\n",
        "\n",
        "4. Describe how dictionaries store data ?\n",
        "\n",
        "  -> Dictionaries store data as key-value pairs.\n",
        "\n",
        "  Keys are always unique\n",
        "\n",
        "  key-value pairs - {keys : values}\n",
        "\n",
        "\n",
        "5. Why might you use a set instead of a list in Python?\n",
        "\n",
        "  -> Sets automatically remove duplicates.\n",
        "\n",
        "  Faster membership checks (in operation).\n",
        "\n",
        "6. What is a string in Python, and how is it different from a list ?\n",
        "\n",
        "  ->String -\n",
        "      * String is the sequence of character in which each character has its unique numerical value .\n",
        "      * String is immutable in nature.\n",
        "\n",
        "  List -\n",
        "    * List is the collection of various data type which are stored in single variable.\n",
        "    * List is mutable in nature.\n",
        "\n",
        "7. How do tuples ensure data integrity in Python?\n",
        "\n",
        "  -> Tuples are immutable, so once created, they can’t be changed — ideal for constant data.\n",
        "\n",
        "8. What is a hash table, and how does it relate to dictionaries in Python?\n",
        "\n",
        "  -> A hash table maps keys to values using a hash function for quick access.\n",
        "Dictionaries in Python are built on hash tables.\n",
        "9. Can lists contain different data types in Python ?\n",
        "\n",
        "  -> Yes, lists contain different data types in Python.\n",
        "\n",
        "10. Explain why strings are immutable in Python ?\n",
        "\n",
        "  -> Strings are immutable, meaning once a string is created, you cannot change its characters directly. Any operation that seems to modify a string actually creates a new string.\n",
        "\n",
        "11. What advantages do dictionaries offer over lists for certain tasks ?\n",
        "\n",
        "  ->  * Fast access by key, not position\n",
        "     * No Duplication allowed\n",
        "\n",
        "12. Describe a scenario where using a tuple would be preferable over a list ?\n",
        "\n",
        "  -> *  When data should not be modified.\n",
        "   * Tuples can also be used as dict keys.\n",
        "\n",
        "13.  How do sets handle duplicate values in Python?\n",
        "\n",
        "  -> Sets remove duplicates automatically.\n",
        "\n",
        "\n",
        "14. How does the “in” keyword work differently for lists and dictionaries ?\n",
        "\n",
        "  -> List: Checks each element (O(n))\n",
        "\n",
        "     Dictionary: Checks key value in hash table (O(1))\n",
        "\n",
        "15. Can you modify the elements of a tuple? Explain why or why not ?\n",
        "\n",
        "  -> No — tuples are immutable:\n",
        "\n",
        "16. What is a nested dictionary, and give an example of its use case?\n",
        "\n",
        "\n",
        "  -> A dictionary inside another dictionary.\n",
        "\n",
        "  students = {\n",
        "  \"101\": {\"name\": \"AAA\", \"marks\": 88},\n",
        "  \"102\": {\"name\": \"BBB\", \"marks\": 75}\n",
        "}\n",
        "\n",
        "\n",
        "17. Describe the time complexity of accessing elements in a dictionary.\n",
        "\n",
        "  -> O(1) average case because of hash table.\n",
        "\n",
        "18. In what situations are lists preferred over dictionaries.\n",
        "\n",
        "  -> * When order matters\n",
        "     * When storing simple sequences without named keys.\n",
        "\n",
        "19. Why are dictionaries considered unordered, and how does that affect data retrieval.\n",
        "\n",
        "  -> Dictionaries didn’t maintain order.\n",
        "\n",
        "20. Explain the difference between a list and a dictionary in terms of data retrieval.\n",
        "\n",
        "  -> List: Retrieve by index\n",
        "         my_list[0].\n",
        "\n",
        "    Dict: Retrieve by key\n",
        "        my_dict[\"name\"]"
      ],
      "metadata": {
        "id": "RebmMAOUtYG_"
      }
    },
    {
      "cell_type": "markdown",
      "source": [
        "1. Write a code to create a string with your name and print it."
      ],
      "metadata": {
        "id": "K1d3nfLCqnLs"
      }
    },
    {
      "cell_type": "code",
      "execution_count": null,
      "metadata": {
        "id": "ZjYNNZ4KtQFT",
        "colab": {
          "base_uri": "https://localhost:8080/"
        },
        "outputId": "ac3f720d-8d99-496c-a246-536d2dbc79b8"
      },
      "outputs": [
        {
          "output_type": "stream",
          "name": "stdout",
          "text": [
            "Your name is Kirti Kuswhaha\n"
          ]
        }
      ],
      "source": [
        "name = \"Kirti Kuswhaha\"\n",
        "print(\"Your name is \"+name)\n"
      ]
    },
    {
      "cell_type": "markdown",
      "source": [
        "2. Write a code to find the length of the string \"Hello World\"."
      ],
      "metadata": {
        "id": "FcPw4rE2tVk5"
      }
    },
    {
      "cell_type": "code",
      "source": [
        "first=\"Hello WOrld !!!!\"\n",
        "print(\"The length of string first is \"+str(len(first)))"
      ],
      "metadata": {
        "colab": {
          "base_uri": "https://localhost:8080/"
        },
        "id": "ouqHtldFrGQ9",
        "outputId": "e6a2dfa8-dc95-43b9-de00-8881476c1bbf"
      },
      "execution_count": null,
      "outputs": [
        {
          "output_type": "stream",
          "name": "stdout",
          "text": [
            "The length of string first is 16\n"
          ]
        }
      ]
    },
    {
      "cell_type": "markdown",
      "source": [
        "3. Write a code to slice the first 3 characters from the string \"Python Programming\"."
      ],
      "metadata": {
        "id": "LTbmw1-ir4x2"
      }
    },
    {
      "cell_type": "code",
      "source": [
        "py=\"Python Programming\"\n",
        "print(py[:3])"
      ],
      "metadata": {
        "colab": {
          "base_uri": "https://localhost:8080/"
        },
        "id": "nre2XUx4rUaz",
        "outputId": "f4a2f645-bb65-42f7-b2f6-87b80e0fbd97"
      },
      "execution_count": null,
      "outputs": [
        {
          "output_type": "stream",
          "name": "stdout",
          "text": [
            "Pyt\n"
          ]
        }
      ]
    },
    {
      "cell_type": "markdown",
      "source": [
        "\n",
        "4. Write a code to convert the string \"hello\" to uppercase."
      ],
      "metadata": {
        "id": "Ps2vsjfFr001"
      }
    },
    {
      "cell_type": "code",
      "source": [
        "he=\"hello\"\n",
        "print(he.upper())"
      ],
      "metadata": {
        "colab": {
          "base_uri": "https://localhost:8080/"
        },
        "id": "3b118e9XslAs",
        "outputId": "5511d209-3344-4a61-e891-9ec062663694"
      },
      "execution_count": null,
      "outputs": [
        {
          "output_type": "stream",
          "name": "stdout",
          "text": [
            "HELLO\n"
          ]
        }
      ]
    },
    {
      "cell_type": "markdown",
      "source": [
        "5. Write a code to replace the word \"apple\" with \"orange\" in the string \"I like apple\"."
      ],
      "metadata": {
        "id": "fJIyoslttHBZ"
      }
    },
    {
      "cell_type": "code",
      "source": [
        "strr=\"I like apple\"\n",
        "strr.replace(\"apple\",\"orange\")\n"
      ],
      "metadata": {
        "colab": {
          "base_uri": "https://localhost:8080/",
          "height": 36
        },
        "id": "Jr669xdMtDrb",
        "outputId": "399e2672-b6a1-47bc-9b85-e1fdd4dff7ee"
      },
      "execution_count": null,
      "outputs": [
        {
          "output_type": "execute_result",
          "data": {
            "text/plain": [
              "'I like orange'"
            ],
            "application/vnd.google.colaboratory.intrinsic+json": {
              "type": "string"
            }
          },
          "metadata": {},
          "execution_count": 14
        }
      ]
    },
    {
      "cell_type": "markdown",
      "source": [
        "6. Write a code to create a list with numbers 1 to 5 and print it."
      ],
      "metadata": {
        "id": "QR66bNFwtcd9"
      }
    },
    {
      "cell_type": "code",
      "source": [
        "listt1=[1,2,3,4,5]\n",
        "print(listt1)\n",
        "for i in range(0,len(listt1)):\n",
        "  print(listt1[i])"
      ],
      "metadata": {
        "colab": {
          "base_uri": "https://localhost:8080/"
        },
        "id": "OJlts3M9tVMN",
        "outputId": "4fcc3d9b-ef90-44a5-d856-7e0512e5b9ee"
      },
      "execution_count": null,
      "outputs": [
        {
          "output_type": "stream",
          "name": "stdout",
          "text": [
            "[1, 2, 3, 4, 5]\n",
            "1\n",
            "2\n",
            "3\n",
            "4\n",
            "5\n"
          ]
        }
      ]
    },
    {
      "cell_type": "markdown",
      "source": [
        "\n",
        "7. Write a code to append the number 10 to the list [1, 2, 3, 4]."
      ],
      "metadata": {
        "id": "ZIbXhrA5tzXT"
      }
    },
    {
      "cell_type": "code",
      "source": [
        "listt1=[1,2,3,4]\n",
        "listt1.append(10)\n",
        "listt1"
      ],
      "metadata": {
        "colab": {
          "base_uri": "https://localhost:8080/"
        },
        "id": "RQgW0B8VtqRy",
        "outputId": "06b68716-a8d6-40df-a639-af3ae7e8b1ed"
      },
      "execution_count": null,
      "outputs": [
        {
          "output_type": "execute_result",
          "data": {
            "text/plain": [
              "[1, 2, 3, 4, 10]"
            ]
          },
          "metadata": {},
          "execution_count": 17
        }
      ]
    },
    {
      "cell_type": "markdown",
      "source": [
        "8. Write a code to remove the number 3 from the list [1, 2, 3, 4, 5]."
      ],
      "metadata": {
        "id": "oztxx-6suDA1"
      }
    },
    {
      "cell_type": "code",
      "source": [
        "listt1=[1,2,3,4,5]\n",
        "listt1.remove(3)\n",
        "listt1"
      ],
      "metadata": {
        "colab": {
          "base_uri": "https://localhost:8080/"
        },
        "id": "MfOmJwZ2t_s3",
        "outputId": "3309a215-a775-4783-a427-6ce9bfca2c98"
      },
      "execution_count": null,
      "outputs": [
        {
          "output_type": "execute_result",
          "data": {
            "text/plain": [
              "[1, 2, 4, 5]"
            ]
          },
          "metadata": {},
          "execution_count": 18
        }
      ]
    },
    {
      "cell_type": "markdown",
      "source": [
        "9. Write a code to access the second element in the list ['a', 'b', 'c', 'd']."
      ],
      "metadata": {
        "id": "wSsuNlzTuO41"
      }
    },
    {
      "cell_type": "code",
      "source": [
        "list= ['a', 'b', 'c', 'd']\n",
        "list[1]"
      ],
      "metadata": {
        "colab": {
          "base_uri": "https://localhost:8080/",
          "height": 36
        },
        "id": "iVdZ9n8UuKx4",
        "outputId": "ba01a2ff-13b3-4231-fd0c-2142c0131745"
      },
      "execution_count": null,
      "outputs": [
        {
          "output_type": "execute_result",
          "data": {
            "text/plain": [
              "'b'"
            ],
            "application/vnd.google.colaboratory.intrinsic+json": {
              "type": "string"
            }
          },
          "metadata": {},
          "execution_count": 19
        }
      ]
    },
    {
      "cell_type": "markdown",
      "source": [
        "10. Write a code to reverse the list [10, 20, 30, 40, 50]."
      ],
      "metadata": {
        "id": "S6QnZ81oud_y"
      }
    },
    {
      "cell_type": "code",
      "source": [
        "list =[10, 20, 30, 40, 50]\n",
        "list[::-1]"
      ],
      "metadata": {
        "colab": {
          "base_uri": "https://localhost:8080/"
        },
        "id": "3ZC85DnZubsE",
        "outputId": "3704b354-19a0-4c22-92b7-a5d6791ff045"
      },
      "execution_count": null,
      "outputs": [
        {
          "output_type": "execute_result",
          "data": {
            "text/plain": [
              "[50, 40, 30, 20, 10]"
            ]
          },
          "metadata": {},
          "execution_count": 25
        }
      ]
    },
    {
      "cell_type": "markdown",
      "source": [
        "11. Write a code to create a tuple with the elements 100, 200, 300 and print it.\n",
        "\n",
        "\n",
        "\n",
        "\n",
        "\n",
        "\n",
        "\n",
        "\n",
        "\n",
        "\n",
        "\n",
        "\n",
        "\n"
      ],
      "metadata": {
        "id": "CSO11O8zvtq7"
      }
    },
    {
      "cell_type": "code",
      "source": [
        "tup=(100,200,300)\n",
        "tup"
      ],
      "metadata": {
        "colab": {
          "base_uri": "https://localhost:8080/"
        },
        "id": "VCUHEXH9uqfN",
        "outputId": "87d2d9a9-8304-4e61-b0af-d68355e52c0f"
      },
      "execution_count": null,
      "outputs": [
        {
          "output_type": "execute_result",
          "data": {
            "text/plain": [
              "(100, 200, 300)"
            ]
          },
          "metadata": {},
          "execution_count": 26
        }
      ]
    },
    {
      "cell_type": "markdown",
      "source": [
        "12. Write a code to access the second-to-last element of the tuple ('red', 'green', 'blue', 'yellow')."
      ],
      "metadata": {
        "id": "dwDjNn_Mv8mm"
      }
    },
    {
      "cell_type": "code",
      "source": [
        "tuple= ('red', 'green', 'blue', 'yellow')\n",
        "tuple[-2]"
      ],
      "metadata": {
        "colab": {
          "base_uri": "https://localhost:8080/",
          "height": 36
        },
        "id": "RzK9sQwEv2dg",
        "outputId": "c03c88b6-3c16-4d03-84f8-17c5b612cbf6"
      },
      "execution_count": null,
      "outputs": [
        {
          "output_type": "execute_result",
          "data": {
            "text/plain": [
              "'blue'"
            ],
            "application/vnd.google.colaboratory.intrinsic+json": {
              "type": "string"
            }
          },
          "metadata": {},
          "execution_count": 27
        }
      ]
    },
    {
      "cell_type": "markdown",
      "source": [
        "13. Write a code to find the minimum number in the tuple (10, 20, 5, 15)."
      ],
      "metadata": {
        "id": "dGUpFuD5wCUv"
      }
    },
    {
      "cell_type": "code",
      "source": [
        "tuple= (10, 20, 5, 15)\n",
        "min(tuple)"
      ],
      "metadata": {
        "colab": {
          "base_uri": "https://localhost:8080/"
        },
        "id": "jxtIgafXwSy4",
        "outputId": "e1645c5d-e1cb-4e9e-facd-5f81182bab9a"
      },
      "execution_count": null,
      "outputs": [
        {
          "output_type": "execute_result",
          "data": {
            "text/plain": [
              "5"
            ]
          },
          "metadata": {},
          "execution_count": 28
        }
      ]
    },
    {
      "cell_type": "markdown",
      "source": [
        "14. Write a code to find the index of the element \"cat\" in the tuple ('dog', 'cat', 'rabbit')."
      ],
      "metadata": {
        "id": "kavW5o8Ywqe7"
      }
    },
    {
      "cell_type": "code",
      "source": [
        "tuple =('dog', 'cat', 'rabbit')\n",
        "for i in range(0,len(tuple)):\n",
        "  if tuple[i]== 'cat':\n",
        "     print(i)\n",
        "     break\n"
      ],
      "metadata": {
        "colab": {
          "base_uri": "https://localhost:8080/"
        },
        "id": "xFkObYXmwmjU",
        "outputId": "2b175478-6728-4fb9-9842-31054f4116cb"
      },
      "execution_count": null,
      "outputs": [
        {
          "output_type": "stream",
          "name": "stdout",
          "text": [
            "1\n"
          ]
        }
      ]
    },
    {
      "cell_type": "markdown",
      "source": [
        "15. Write a code to create a tuple containing three different fruits and check if \"kiwi\" is in it."
      ],
      "metadata": {
        "id": "fujDVGozwu6E"
      }
    },
    {
      "cell_type": "code",
      "source": [
        "fruits = (\"apple\", \"banana\", \"mango\")\n",
        "\n",
        "if \"kiwi\" in fruits:\n",
        "    print(\"Kiwi is in the tuple.\")\n",
        "else:\n",
        "    print(\"Kiwi is not in the tuple.\")\n"
      ],
      "metadata": {
        "colab": {
          "base_uri": "https://localhost:8080/"
        },
        "id": "p_eBn9Cox5kp",
        "outputId": "50d9d620-1f6a-4583-d20f-36cc3253860f"
      },
      "execution_count": null,
      "outputs": [
        {
          "output_type": "stream",
          "name": "stdout",
          "text": [
            "Kiwi is not in the tuple.\n"
          ]
        }
      ]
    },
    {
      "cell_type": "markdown",
      "source": [
        "\n",
        "16. Write a code to create a set with the elements 'a', 'b', 'c' and print it."
      ],
      "metadata": {
        "id": "DkmQ231iyM7L"
      }
    },
    {
      "cell_type": "code",
      "source": [
        "sett={'a','b','c','b','c','c'}\n",
        "print(sett)"
      ],
      "metadata": {
        "colab": {
          "base_uri": "https://localhost:8080/"
        },
        "id": "rvV-HwA9yH0h",
        "outputId": "dd716c19-4c13-4017-fc8a-88768a88a4c6"
      },
      "execution_count": null,
      "outputs": [
        {
          "output_type": "stream",
          "name": "stdout",
          "text": [
            "{'c', 'a', 'b'}\n"
          ]
        }
      ]
    },
    {
      "cell_type": "markdown",
      "source": [
        "17. Write a code to clear all elements from the set {1, 2, 3, 4, 5}."
      ],
      "metadata": {
        "id": "F9t8WbXAyQUQ"
      }
    },
    {
      "cell_type": "code",
      "source": [
        "set= {1, 2, 3, 4, 5}\n",
        "print(sett)\n",
        "print(set.clear())"
      ],
      "metadata": {
        "colab": {
          "base_uri": "https://localhost:8080/"
        },
        "id": "rIued4blyRN3",
        "outputId": "a05cdfba-b880-483b-f294-0b5b6da0dbca"
      },
      "execution_count": null,
      "outputs": [
        {
          "output_type": "stream",
          "name": "stdout",
          "text": [
            "{'c', 'a', 'b'}\n",
            "None\n"
          ]
        }
      ]
    },
    {
      "cell_type": "markdown",
      "source": [
        "18. Write a code to remove the element 4 from the set {1, 2, 3, 4}."
      ],
      "metadata": {
        "id": "aKA8PoKuyUXM"
      }
    },
    {
      "cell_type": "code",
      "source": [
        "set1 ={1, 2, 3, 4}\n",
        "print(set1)\n",
        "set1.remove(4)\n",
        "print(set1)"
      ],
      "metadata": {
        "colab": {
          "base_uri": "https://localhost:8080/"
        },
        "id": "dvTtcZGOyVS0",
        "outputId": "f32cef0a-91fa-4059-aeb3-63b980349364"
      },
      "execution_count": null,
      "outputs": [
        {
          "output_type": "stream",
          "name": "stdout",
          "text": [
            "{1, 2, 3, 4}\n",
            "{1, 2, 3}\n"
          ]
        }
      ]
    },
    {
      "cell_type": "markdown",
      "source": [
        "19. Write a code to find the union of two sets {1, 2, 3} and {3, 4, 5}."
      ],
      "metadata": {
        "id": "iYAi3OciyY6A"
      }
    },
    {
      "cell_type": "code",
      "source": [
        "set1= {1, 2, 3}\n",
        "set2= {3, 4, 5}\n",
        "set3=set1|set2\n",
        "print(set3)"
      ],
      "metadata": {
        "colab": {
          "base_uri": "https://localhost:8080/"
        },
        "id": "GWMWdR2byYeq",
        "outputId": "5b322469-f872-4a98-9f1d-4b6629284fdc"
      },
      "execution_count": null,
      "outputs": [
        {
          "output_type": "stream",
          "name": "stdout",
          "text": [
            "{1, 2, 3, 4, 5}\n"
          ]
        }
      ]
    },
    {
      "cell_type": "markdown",
      "source": [
        "20. Write a code to find the intersection of two sets {1, 2, 3} and {2, 3, 4}."
      ],
      "metadata": {
        "id": "wW22-Px9ycqD"
      }
    },
    {
      "cell_type": "code",
      "source": [
        "set1= {1, 2, 3}\n",
        "set2= {3, 4, 2}\n",
        "set3=set1&set2\n",
        "print(set3)"
      ],
      "metadata": {
        "colab": {
          "base_uri": "https://localhost:8080/"
        },
        "id": "owa6i70vydfi",
        "outputId": "8abd3bfc-2fc0-4c5b-e83a-454f88f550b4"
      },
      "execution_count": null,
      "outputs": [
        {
          "output_type": "stream",
          "name": "stdout",
          "text": [
            "{2, 3}\n"
          ]
        }
      ]
    },
    {
      "cell_type": "markdown",
      "source": [
        "21. Write a code to create a dictionary with the keys \"name\", \"age\", and \"city\", and print it."
      ],
      "metadata": {
        "id": "gr7IC92xyjGl"
      }
    },
    {
      "cell_type": "code",
      "source": [
        "dict={\n",
        "    \"name\":\"Shadow and Bone\",\n",
        "    \"age\": 54,\n",
        "    \"city\":\"Bulandshahr\"\n",
        "}\n",
        "print(dict)"
      ],
      "metadata": {
        "colab": {
          "base_uri": "https://localhost:8080/"
        },
        "id": "gL-wLUKUyj5s",
        "outputId": "f7bc2de1-4279-49bd-bb1c-9ca1837e0d7c"
      },
      "execution_count": null,
      "outputs": [
        {
          "output_type": "stream",
          "name": "stdout",
          "text": [
            "{'name': 'Shadow and Bone', 'age': 54, 'city': 'Bulandshahr'}\n"
          ]
        }
      ]
    },
    {
      "cell_type": "markdown",
      "source": [
        "22. Write a code to add a new key-value pair \"country\": \"USA\" to the dictionary {'name': 'John', 'age': 25}.\n",
        "\n",
        "\n",
        "\n",
        "\n",
        "\n",
        "\n",
        "\n",
        "\n",
        "\n",
        "\n",
        "\n",
        "\n",
        "\n",
        "\n"
      ],
      "metadata": {
        "id": "7ZKpiIxw0WLB"
      }
    },
    {
      "cell_type": "code",
      "source": [
        "person = {'name': 'John', 'age': 25}\n",
        "person['country'] = 'USA'\n",
        "print(person)\n"
      ],
      "metadata": {
        "colab": {
          "base_uri": "https://localhost:8080/"
        },
        "id": "nSmlUx3G0I9J",
        "outputId": "d805c00d-cdc6-4946-a6ba-98fb31f861a4"
      },
      "execution_count": null,
      "outputs": [
        {
          "output_type": "stream",
          "name": "stdout",
          "text": [
            "{'name': 'John', 'age': 25, 'country': 'USA'}\n"
          ]
        }
      ]
    },
    {
      "cell_type": "markdown",
      "source": [
        "23. Write a code to access the value associated with the key \"name\" in the dictionary {'name': 'Alice', 'age': 30}."
      ],
      "metadata": {
        "id": "g1h6cepA0Yyv"
      }
    },
    {
      "cell_type": "code",
      "source": [
        "dictionary= {'name': 'Alice', 'age': 30}\n",
        "print(dictionary['name'])"
      ],
      "metadata": {
        "colab": {
          "base_uri": "https://localhost:8080/"
        },
        "id": "z6KLbL9f0Zp7",
        "outputId": "940666b3-d7bc-437d-bde2-23608a99ed5d"
      },
      "execution_count": null,
      "outputs": [
        {
          "output_type": "stream",
          "name": "stdout",
          "text": [
            "Alice\n"
          ]
        }
      ]
    },
    {
      "cell_type": "markdown",
      "source": [
        "24. Write a code to remove the key \"age\" from the dictionary {'name': 'Bob', 'age': 22, 'city': 'New York'}."
      ],
      "metadata": {
        "id": "Rp_H3kn60hu6"
      }
    },
    {
      "cell_type": "code",
      "source": [
        "dictionary= {'name': 'Bob', 'age': 22, 'city': 'New York'}\n",
        "print(dictionary.pop('age'))\n",
        "print(dictionary)"
      ],
      "metadata": {
        "colab": {
          "base_uri": "https://localhost:8080/"
        },
        "id": "GzRu0PO30j2y",
        "outputId": "a7262cca-f776-49c3-b098-8e6c5f838ef5"
      },
      "execution_count": null,
      "outputs": [
        {
          "output_type": "stream",
          "name": "stdout",
          "text": [
            "22\n",
            "{'name': 'Bob', 'city': 'New York'}\n"
          ]
        }
      ]
    },
    {
      "cell_type": "markdown",
      "source": [
        "25. Write a code to check if the key \"city\" exists in the dictionary {'name': 'Alice', 'city': 'Paris'}."
      ],
      "metadata": {
        "id": "4oq1IxRq075O"
      }
    },
    {
      "cell_type": "code",
      "source": [
        "dictionary= {'name': 'Alice', 'city': 'Paris'}\n",
        "dictionary.get('city')"
      ],
      "metadata": {
        "colab": {
          "base_uri": "https://localhost:8080/",
          "height": 36
        },
        "id": "LXrM3zKw2StJ",
        "outputId": "3a4e532f-790f-4733-9a2d-19777190c364"
      },
      "execution_count": null,
      "outputs": [
        {
          "output_type": "execute_result",
          "data": {
            "text/plain": [
              "'Paris'"
            ],
            "application/vnd.google.colaboratory.intrinsic+json": {
              "type": "string"
            }
          },
          "metadata": {},
          "execution_count": 54
        }
      ]
    },
    {
      "cell_type": "markdown",
      "source": [
        "26. Write a code to create a list, a tuple, and a dictionary, and print them all."
      ],
      "metadata": {
        "id": "Ki6RVKgj04z0"
      }
    },
    {
      "cell_type": "code",
      "source": [
        "my_list = [1, 2, 3, 4, 5]\n",
        "\n",
        "my_tuple = ('apple', 'banana', 'cherry')\n",
        "\n",
        "my_dict = {'name': 'Alice', 'age': 30}\n",
        "\n",
        "# Printing them\n",
        "print(\"List:\", my_list)\n",
        "print(\"Tuple:\", my_tuple)\n",
        "print(\"Dictionary:\", my_dict)\n"
      ],
      "metadata": {
        "colab": {
          "base_uri": "https://localhost:8080/"
        },
        "id": "w7ECJpYv2sMp",
        "outputId": "98ac51c4-55af-4626-cd10-18d807325d84"
      },
      "execution_count": null,
      "outputs": [
        {
          "output_type": "stream",
          "name": "stdout",
          "text": [
            "List: [1, 2, 3, 4, 5]\n",
            "Tuple: ('apple', 'banana', 'cherry')\n",
            "Dictionary: {'name': 'Alice', 'age': 30}\n"
          ]
        }
      ]
    },
    {
      "cell_type": "markdown",
      "source": [
        "27. Write a code to create a list of 5 random numbers between 1 and 100, sort it in ascending order, and print the\n",
        "result.(replaced)"
      ],
      "metadata": {
        "id": "JGJ9E9Sw01hy"
      }
    },
    {
      "cell_type": "code",
      "source": [
        "import random\n",
        "\n",
        "random_numbers = [random.randint(1, 100) for _ in range(5)]\n",
        "\n",
        "random_numbers.sort()\n",
        "\n",
        "# Print the sorted list\n",
        "print(\"Sorted random numbers:\", random_numbers)\n"
      ],
      "metadata": {
        "colab": {
          "base_uri": "https://localhost:8080/"
        },
        "id": "fN-59oDk28IJ",
        "outputId": "0e63a874-e860-437d-d32f-0a706abfaee7"
      },
      "execution_count": null,
      "outputs": [
        {
          "output_type": "stream",
          "name": "stdout",
          "text": [
            "Sorted random numbers: [18, 24, 44, 52, 71]\n"
          ]
        }
      ]
    },
    {
      "cell_type": "markdown",
      "source": [
        "\n",
        "28. Write a code to create a list with strings and print the element at the third index."
      ],
      "metadata": {
        "id": "9cRSC0WU0yON"
      }
    },
    {
      "cell_type": "code",
      "source": [
        "# Create a list with strings\n",
        "words = [\"apple\", \"banana\", \"cherry\", \"date\", \"elderberry\"]\n",
        "\n",
        "# Print the element at the third index\n",
        "print(\"Element at index 3:\", words[3])\n"
      ],
      "metadata": {
        "colab": {
          "base_uri": "https://localhost:8080/"
        },
        "id": "TwIYDVgH3IFi",
        "outputId": "569223bb-b49d-4c56-f1a8-548c532bae89"
      },
      "execution_count": null,
      "outputs": [
        {
          "output_type": "stream",
          "name": "stdout",
          "text": [
            "Element at index 3: date\n"
          ]
        }
      ]
    },
    {
      "cell_type": "markdown",
      "source": [
        "29. Write a code to combine two dictionaries into one and print the result."
      ],
      "metadata": {
        "id": "wrDhWHxC0q_R"
      }
    },
    {
      "cell_type": "code",
      "source": [
        "dict1 = {'a': 1, 'b': 2}\n",
        "dict2 = {'c': 3, 'd': 4}\n",
        "\n",
        "# Combine the dictionaries\n",
        "combined_dict = {**dict1, **dict2}\n",
        "\n",
        "# Print the result\n",
        "print(\"Combined Dictionary:\", combined_dict)\n"
      ],
      "metadata": {
        "colab": {
          "base_uri": "https://localhost:8080/"
        },
        "id": "YqS2SgBm3PtA",
        "outputId": "4e827e6d-72de-4b5d-c0bb-f245549f6fba"
      },
      "execution_count": null,
      "outputs": [
        {
          "output_type": "stream",
          "name": "stdout",
          "text": [
            "Combined Dictionary: {'a': 1, 'b': 2, 'c': 3, 'd': 4}\n"
          ]
        }
      ]
    },
    {
      "cell_type": "markdown",
      "source": [
        "30. Write a code to convert a list of strings into a set."
      ],
      "metadata": {
        "id": "Y_PDxwpr0dFP"
      }
    },
    {
      "cell_type": "code",
      "source": [
        "fruits = [\"apple\", \"banana\", \"cherry\", \"apple\", \"banana\"]  # List with duplicates\n",
        "\n",
        "fruit_set = set(fruits)  # Convert to set to remove duplicates\n",
        "\n",
        "print(\"Set of fruits:\", fruit_set)\n"
      ],
      "metadata": {
        "colab": {
          "base_uri": "https://localhost:8080/"
        },
        "id": "DRjRPXKZ3Y0k",
        "outputId": "4a3c7665-6071-48f7-c2a9-be8a9844c800"
      },
      "execution_count": null,
      "outputs": [
        {
          "output_type": "stream",
          "name": "stdout",
          "text": [
            "Set of fruits: {'apple', 'cherry', 'banana'}\n"
          ]
        }
      ]
    }
  ]
}