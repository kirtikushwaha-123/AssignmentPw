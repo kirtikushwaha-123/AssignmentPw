{
  "nbformat": 4,
  "nbformat_minor": 0,
  "metadata": {
    "colab": {
      "provenance": []
    },
    "kernelspec": {
      "name": "python3",
      "display_name": "Python 3"
    },
    "language_info": {
      "name": "python"
    }
  },
  "cells": [
    {
      "cell_type": "markdown",
      "source": [
        "Python Basic Question\n",
        "\n",
        "\n",
        "1. What is Python, and why is it popular ?\n",
        " -> Python is a high-level, interpreted programming language known for:\n",
        "   * Simplicity: Easy-to-read syntax like English.\n",
        "   * Versatility: Used in web dev, data science (Pandas), AI, Data Analysis etc.\n",
        "   * Large Ecosystem: There is lot of library present in python\n",
        "   * Cross-Platform: Works on Windows, macOS, Linux.\n",
        "2. What is an interpreter in Python ?\n",
        "\n",
        " -> Python is an interpreter lnguage which means program reads, translates, and executes Python code line by line. Unlike a compiler which converts the entire program into machine code before execution.\n",
        "3. What are pre-defined keywords in Python ?\n",
        "\n",
        "  -> Keywords in python (also called reserved words) are predefined identifiers with special meanings and functionalities.\n",
        "\n",
        "  Keywords are not used as :\n",
        "    * Variable names\n",
        "    * Functoin mane\n",
        "    * class name and so on.\n",
        "\n",
        "  Examples- for,if,elif,while, in and so on.\n",
        "   \n",
        "4. Can keywords be used as variable names.\n",
        "\n",
        " -> No, keywords are not used as variable.\n",
        "5. What is mutability in Python ?\n",
        "\n",
        "  -> Object that change after its creation(list,dictionary etc)\n",
        "\n",
        "6. Why are lists mutable, but tuples are immutable?\n",
        "\n",
        "  -> List : List is mutable which means we can add element.\n",
        "  \n",
        "  -> Tuple : Tuple is immutable which means ones it created it cannot be changed.\n",
        "\n",
        "7. What is the difference between “==” and “is” operators in Python ?\n",
        "\n",
        "  -> \"==\" : it only check the value is equal or not\n",
        "     is : it only check the location of object is equal or not\n",
        "8. What are logical operators in Python ?\n",
        "\n",
        "  -> and: True if both operands are true.\n",
        "     \n",
        "     or: True if at least one operand is true.\n",
        "\n",
        "     not: Inverts the boolean.\n",
        "\n",
        "9. What is type casting in Python ?\n",
        "  -> Typecasting means converting one type of data into another type of data\n",
        "  In Python there is two type of typecasting :\n",
        "  Implicit and Explicit.\n",
        "\n",
        "10. What is the difference between implicit and explicit type casting\n",
        "\n",
        "  -> a). Implicit : Python internally automatic typecast.\n",
        "  \n",
        "    b). Explicit: Manual conversion between different data type.\n",
        "\n",
        "11. What is the purpose of conditional statements in Python?\n",
        "\n",
        "  -> Conditional statement : It is used to take the various decison accoding to the conditions\n",
        "\n",
        "  Various Conditional are : if , elif ,else.\n",
        "\n",
        "12. How does the elif statement work ?\n",
        "\n",
        "  -> Using an example we can understand the working of elif statement.\n",
        "\n",
        "  num =45\n",
        "\n",
        "  if num > 40:\n",
        "\n",
        "      print(\"Number is greater than 40\")\n",
        "\n",
        "  elif num >30 and num < 40 :\n",
        "\n",
        "      print(\"Number is in between 30 and 40\")\n",
        "\n",
        "  elif num >20 and num < 30 :\n",
        "\n",
        "      print(\"Number is in between 20 and 30\")\n",
        "\n",
        "  else :\n",
        "\n",
        "     print(\"Number is less than 20\")\n",
        "(there is an indentation space)\n",
        " If if condition fails then next condition elif check if it is true then block of code inside the that elif run if elif condition fails then at last else statement automatically run.\n",
        "  \n",
        "13. What is the difference between for and while loops?\n",
        "\n",
        "  -> for: Iterates over sequences (e.g., lists, strings).\n",
        "\n",
        "     while :  Runs until a condition is False.\n",
        "14. Describe a scenario where a while loop is more suitable than a for loop?\n",
        "\n",
        "  -> Use while when wew don’t know how many times the loop should run in advance."
      ],
      "metadata": {
        "id": "i6zSxP3-fRsE"
      }
    },
    {
      "cell_type": "code",
      "execution_count": 1,
      "metadata": {
        "colab": {
          "base_uri": "https://localhost:8080/"
        },
        "id": "JB_Neft5fGBw",
        "outputId": "2055483a-c8cf-427c-84aa-0f672814644b"
      },
      "outputs": [
        {
          "output_type": "stream",
          "name": "stdout",
          "text": [
            "Hello, World!\n"
          ]
        }
      ],
      "source": [
        "# 1 Write a Python program to print \"Hello, World!\n",
        "print(\"Hello, World!\")"
      ]
    },
    {
      "cell_type": "code",
      "source": [
        "# 2 Write a Python program that displays your name and age\n",
        "name = \"Kirti Kushwaha\"\n",
        "age = 21\n",
        "print(f\"My name is {name} and I'm {age} years old.\")"
      ],
      "metadata": {
        "colab": {
          "base_uri": "https://localhost:8080/"
        },
        "id": "ZTKPoHpeuGMb",
        "outputId": "8d472ea2-32cd-4bac-d55b-762a4659678f"
      },
      "execution_count": 2,
      "outputs": [
        {
          "output_type": "stream",
          "name": "stdout",
          "text": [
            "My name is Kirti Kushwaha and I'm 21 years old.\n"
          ]
        }
      ]
    },
    {
      "cell_type": "code",
      "source": [
        "# 3 Write code to print all the pre-defined keywords in Python using the keyword library8\n",
        "import keyword\n",
        "print(\"Python keywords:\", keyword.kwlist)\n",
        "# print(help(\"keyword\"))"
      ],
      "metadata": {
        "colab": {
          "base_uri": "https://localhost:8080/"
        },
        "id": "8oNGGqRDuad9",
        "outputId": "25970079-c98c-414f-a335-0045967b8a6b"
      },
      "execution_count": 6,
      "outputs": [
        {
          "output_type": "stream",
          "name": "stdout",
          "text": [
            "Python keywords: ['False', 'None', 'True', 'and', 'as', 'assert', 'async', 'await', 'break', 'class', 'continue', 'def', 'del', 'elif', 'else', 'except', 'finally', 'for', 'from', 'global', 'if', 'import', 'in', 'is', 'lambda', 'nonlocal', 'not', 'or', 'pass', 'raise', 'return', 'try', 'while', 'with', 'yield']\n"
          ]
        }
      ]
    },
    {
      "cell_type": "code",
      "source": [
        "# 4 Write a program that checks if a given word is a Python keyword.\n",
        "import keyword\n",
        "\n",
        "word = input(\"Enter a word: \")\n",
        "if keyword.iskeyword(word):\n",
        "    print(f\"'{word}' is a Python keyword.\")\n",
        "else:\n",
        "    print(f\"'{word}' is not a Python keyword.\")\n"
      ],
      "metadata": {
        "colab": {
          "base_uri": "https://localhost:8080/"
        },
        "id": "v18YDwhdueSh",
        "outputId": "42d20eb9-f791-40d7-d96e-5729736b767a"
      },
      "execution_count": 7,
      "outputs": [
        {
          "output_type": "stream",
          "name": "stdout",
          "text": [
            "Enter a word: if\n",
            "'if' is a Python keyword.\n"
          ]
        }
      ]
    },
    {
      "cell_type": "code",
      "source": [
        "# 5. Create a list and tuple in Python, and demonstrate how attempting to change an element works differently for each.\n",
        "# List (mutable) - can be changed\n",
        "fruits_list = [\"apple\", \"banana\", \"cherry\"]\n",
        "fruits_list[1] = \"orange\"\n",
        "print(\"Modified list:\", fruits_list)\n",
        "\n",
        "# Tuple (immutable) - cannot be changed\n",
        "fruits_tuple = (\"apple\", \"banana\", \"cherry\")\n",
        "try:\n",
        "    fruits_tuple[1] = \"orange\"\n",
        "except TypeError as e:\n",
        "    print(\"Error with tuple:\", e)"
      ],
      "metadata": {
        "colab": {
          "base_uri": "https://localhost:8080/"
        },
        "id": "wO-gq8kmvGAX",
        "outputId": "838ec114-f416-446c-ac58-8076dbbcbf3b"
      },
      "execution_count": 21,
      "outputs": [
        {
          "output_type": "stream",
          "name": "stdout",
          "text": [
            "Modified list: ['apple', 'orange', 'cherry']\n",
            "Error with tuple: 'tuple' object does not support item assignment\n"
          ]
        }
      ]
    },
    {
      "cell_type": "code",
      "source": [
        "# 6. Write a function to demonstrate the behavior of mutable and immutable arguments\n",
        "def modify_args(mutable_list, immutable_int):\n",
        "    mutable_list.append(4)\n",
        "    immutable_int += 1\n",
        "    print(\"Inside function:\", mutable_list, immutable_int)\n",
        "\n",
        "my_list = [1, 2, 3]\n",
        "my_int = 10\n",
        "modify_args(my_list, my_int)\n",
        "print(\"Outside function:\", my_list, my_int)  # List changed, integer unchanged"
      ],
      "metadata": {
        "colab": {
          "base_uri": "https://localhost:8080/"
        },
        "id": "u2LAEhuwu-XH",
        "outputId": "c13cb85b-6a18-4101-e635-2dec7e296b2a"
      },
      "execution_count": 8,
      "outputs": [
        {
          "output_type": "stream",
          "name": "stdout",
          "text": [
            "Inside function: [1, 2, 3, 4] 11\n",
            "Outside function: [1, 2, 3, 4] 10\n"
          ]
        }
      ]
    },
    {
      "cell_type": "code",
      "source": [
        "# 7. Write a program that performs basic arithmetic operations on two user-input numbers\n",
        "num1 = float(input(\"Enter first number: \"))\n",
        "num2 = float(input(\"Enter second number: \"))\n",
        "\n",
        "print(f\"Addition: {num1 + num2}\")\n",
        "print(f\"Subtraction: {num1 - num2}\")\n",
        "print(f\"Multiplication: {num1 * num2}\")\n",
        "print(f\"Division: {num1 / num2}\")\n",
        "print(f\"Modulus: {num1 % num2}\")\n",
        "print(f\"Exponent: {num1 ** num2}\")"
      ],
      "metadata": {
        "colab": {
          "base_uri": "https://localhost:8080/"
        },
        "id": "HFgBd60Dwq0a",
        "outputId": "7e8dd70a-c0bb-452e-a151-96e1540888b6"
      },
      "execution_count": 9,
      "outputs": [
        {
          "output_type": "stream",
          "name": "stdout",
          "text": [
            "Enter first number: 45\n",
            "Enter second number: 2\n",
            "Addition: 47.0\n",
            "Subtraction: 43.0\n",
            "Multiplication: 90.0\n",
            "Division: 22.5\n",
            "Modulus: 1.0\n",
            "Exponent: 2025.0\n"
          ]
        }
      ]
    },
    {
      "cell_type": "code",
      "source": [
        "# 8. Write a program to demonstrate the use of logical operators.\n",
        "a = True\n",
        "b = False\n",
        "\n",
        "print(f\"AND: {a and b}\")\n",
        "print(f\"OR: {a or b}\")\n",
        "print(f\"NOT a: {not a}\")"
      ],
      "metadata": {
        "colab": {
          "base_uri": "https://localhost:8080/"
        },
        "id": "bKPT9Wy7wvrR",
        "outputId": "e8351e4e-e37c-43c9-97b3-0fc6a241d9f8"
      },
      "execution_count": 10,
      "outputs": [
        {
          "output_type": "stream",
          "name": "stdout",
          "text": [
            "AND: False\n",
            "OR: True\n",
            "NOT a: False\n"
          ]
        }
      ]
    },
    {
      "cell_type": "code",
      "source": [
        "# 9. Write a Python program to convert user input from string to integer, float, and boolean types.\n",
        "user_input = input(\"Enter a value: \")\n",
        "\n",
        "as_int = int(user_input)\n",
        "as_float = float(user_input)\n",
        "as_bool = bool(user_input)\n",
        "\n",
        "print(f\"As integer: {as_int}\")\n",
        "print(f\"As float: {as_float}\")\n",
        "print(f\"As boolean: {as_bool}\")"
      ],
      "metadata": {
        "colab": {
          "base_uri": "https://localhost:8080/"
        },
        "id": "QqsMlMv7w3F9",
        "outputId": "e464ce16-7f4d-4dd3-8311-16bb7b1c405e"
      },
      "execution_count": 12,
      "outputs": [
        {
          "output_type": "stream",
          "name": "stdout",
          "text": [
            "Enter a value: 566\n",
            "As integer: 566\n",
            "As float: 566.0\n",
            "As boolean: True\n"
          ]
        }
      ]
    },
    {
      "cell_type": "code",
      "source": [
        "# 10. Write code to demonstrate type casting with list elements.\n",
        "mixed_list = ['1', '2.5', '56', '67']\n",
        "\n",
        "converted = []\n",
        "for item in mixed_list:\n",
        "  converted.append(float(item))\n",
        "\n",
        "\n",
        "print(\"Converted list:\", converted)"
      ],
      "metadata": {
        "colab": {
          "base_uri": "https://localhost:8080/"
        },
        "id": "_34AUEvaxPx-",
        "outputId": "1fd15a21-813b-4808-857c-8adc4b6959fe"
      },
      "execution_count": 14,
      "outputs": [
        {
          "output_type": "stream",
          "name": "stdout",
          "text": [
            "Converted list: [1.0, 2.5, 56.0, 67.0]\n"
          ]
        }
      ]
    },
    {
      "cell_type": "code",
      "source": [
        "# 11. Write a program that checks if a number is positive, negative, or zero.\n",
        "num = float(input(\"Enter a number: \"))\n",
        "\n",
        "if num > 0:\n",
        "    print(\"Positive\")\n",
        "elif num < 0:\n",
        "    print(\"Negative\")\n",
        "else:\n",
        "    print(\"Zero\")"
      ],
      "metadata": {
        "colab": {
          "base_uri": "https://localhost:8080/"
        },
        "id": "9ph5BZ3Ix1cd",
        "outputId": "74a9d82c-0faf-483f-f445-64b1cb5d077e"
      },
      "execution_count": 15,
      "outputs": [
        {
          "output_type": "stream",
          "name": "stdout",
          "text": [
            "Enter a number: 56\n",
            "Positive\n"
          ]
        }
      ]
    },
    {
      "cell_type": "code",
      "source": [
        "# 12. Write a for loop to print numbers from 1 to 10.\n",
        "for i in range(1, 11):\n",
        "    print(i, end=' ')\n",
        "print()"
      ],
      "metadata": {
        "colab": {
          "base_uri": "https://localhost:8080/"
        },
        "id": "LQei_rRHyTUl",
        "outputId": "0fc40a37-b839-4826-9e31-129605c1765a"
      },
      "execution_count": 16,
      "outputs": [
        {
          "output_type": "stream",
          "name": "stdout",
          "text": [
            "1 2 3 4 5 6 7 8 9 10 \n"
          ]
        }
      ]
    },
    {
      "cell_type": "code",
      "source": [
        "# 13. Write a Python program to find the sum of all even numbers between 1 and 50.\n",
        "total = 0\n",
        "for num in range(2, 51, 2):  # Start at 2, step by 2\n",
        "    total += num\n",
        "print(\"Sum of even numbers (1-50):\", total)"
      ],
      "metadata": {
        "colab": {
          "base_uri": "https://localhost:8080/"
        },
        "id": "GI9cTA1UyaZJ",
        "outputId": "8b0fb95a-1f88-456f-b76d-8b4f9792df16"
      },
      "execution_count": 17,
      "outputs": [
        {
          "output_type": "stream",
          "name": "stdout",
          "text": [
            "Sum of even numbers (1-50): 650\n"
          ]
        }
      ]
    },
    {
      "cell_type": "code",
      "source": [
        "# 14. Write a program to reverse a string using a while loop.\n",
        "text = input(\"Enter a string: \")\n",
        "reversed_text = \"\"\n",
        "index = len(text) - 1\n",
        "\n",
        "while index >= 0:\n",
        "    reversed_text += text[index]\n",
        "    index -= 1\n",
        "\n",
        "print(\"Reversed string:\", reversed_text)"
      ],
      "metadata": {
        "colab": {
          "base_uri": "https://localhost:8080/"
        },
        "id": "05_Qdvt-ymCz",
        "outputId": "993e8260-62b4-4323-bf30-a3aa5958fdf9"
      },
      "execution_count": 18,
      "outputs": [
        {
          "output_type": "stream",
          "name": "stdout",
          "text": [
            "Enter a string: pw skills\n",
            "Reversed string: slliks wp\n"
          ]
        }
      ]
    },
    {
      "cell_type": "code",
      "source": [
        "# 15. Write a Python program to calculate the factorial of a number provided by the user using a while loop.\n",
        "num = int(input(\"Enter a number: \"))\n",
        "factorial = 1\n",
        "i = 1\n",
        "\n",
        "while i <= num:\n",
        "    factorial *= i\n",
        "    i += 1\n",
        "\n",
        "print(f\"Factorial of {num} is {factorial}\")"
      ],
      "metadata": {
        "colab": {
          "base_uri": "https://localhost:8080/"
        },
        "id": "PwYlOapqy2ur",
        "outputId": "86e4ad76-1593-4a98-b6ca-243a82b185fc"
      },
      "execution_count": 19,
      "outputs": [
        {
          "output_type": "stream",
          "name": "stdout",
          "text": [
            "Enter a number: 5\n",
            "Factorial of 5 is 120\n"
          ]
        }
      ]
    },
    {
      "cell_type": "code",
      "source": [],
      "metadata": {
        "id": "7fT4gZFFzISf"
      },
      "execution_count": null,
      "outputs": []
    }
  ]
}