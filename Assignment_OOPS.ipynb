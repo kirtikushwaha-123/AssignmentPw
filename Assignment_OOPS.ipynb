{
  "nbformat": 4,
  "nbformat_minor": 0,
  "metadata": {
    "colab": {
      "provenance": []
    },
    "kernelspec": {
      "name": "python3",
      "display_name": "Python 3"
    },
    "language_info": {
      "name": "python"
    }
  },
  "cells": [
    {
      "cell_type": "markdown",
      "source": [
        "1.  What is Object-Oriented Programming (OOP)?\n",
        "\n",
        "  *   OOP is a programming paradigm that organizes progrM around objects, rather than functions and logic. Each object is an instance of a class, which defines the structure and behavior (via attributes and methods).\n",
        "\n",
        "\n",
        "2.  What is a class in OOP ?\n",
        "\n",
        "  * A class is a collection of objects. Classes are blueprints for creating objects. A class defines a set of attributes and methods that the created objects (instances) can have.\n",
        "  \n",
        "  * Classes are created by keyword class.\n",
        "\n",
        "3.   What is an object in OOP ?\n",
        "\n",
        "   *  An Object is an instance of a Class. It represents a specific implementation of the class and holds its own data.\n",
        "\n",
        "  *  Creating an object that involves instantiating a class to create a new instance of that class\n",
        "\n",
        "4.   What is the difference between abstraction and encapsulation ?\n",
        "\n",
        "  *   Abstraction : Hiding implementation details and showing only the essential features.\n",
        "\n",
        "  Use of abstract classes or interfaces\n",
        "  *   Encapsulation : Hiding data by restricting access using access modifiers.\n",
        "\n",
        "      Hiding internal data\n",
        "\n",
        "\n",
        "5.   What are dunder methods in Python ?\n",
        "\n",
        "  *   Dunder methods are special methods in Python that start and end with double underscores (like __init__, __str__). They're also called magic methods.\n",
        "  Dunder Method\n",
        "  -> __init__\t:Constructor method\n",
        "\n",
        "  -> __str__\t: String representation\n",
        "  -> __add__\t: Addition operator +\n",
        "\n",
        "\n",
        "6.   Explain the concept of inheritance in OOP ?\n",
        "\n",
        "*   Inheritance allows child class to acquire properties and methods of parent class.\n",
        "Type of Inheritance in Python :\n",
        "    1.   Single Inheritance\n",
        "    2.   Multiple Inheritance\n",
        "    3.   Multilevel Inheritance\n",
        "    4.   Hierarchical Inheritance\n",
        "    5.   Hybrid Inheritance\n",
        "\n",
        "7.   What is polymorphism in OOP ?\n",
        "\n",
        "  *   Polymorphism made up of two words poly(means many) and morphism(means forms or state).\n",
        "  It refers to an object taking several forms depending on the method or data.\n",
        "  Type of polymorphism :\n",
        "    -> Method overloading\n",
        "    -> Method overriding\n",
        "\n",
        "8. How is encapsulation achieved in Python ?\n",
        "\n",
        "  *   In Python, encapsulation is achieved by using acces modifier\n",
        "\n",
        "    -> Private Access Modifier\n",
        "    -> Public Access Modifier\n",
        "    -> Protected Access Modifier\n",
        "\n",
        "9.  What is a constructor in Python ?\n",
        "\n",
        "  *   Constructor in Python is the special type of method that is automatically called when an object is created from a class.\n",
        "    __init__ : method is used to initialize the instance of classes.\n",
        "\n",
        "10.  What are class and static methods in Python+\n",
        "\n",
        "\n",
        "  *   Class Method (@classmethod)--\n",
        "\n",
        "      -> Belongs to the class, not the object.\n",
        "\n",
        "      -> First parameter is always cls (refers to the class).\n",
        "\n",
        "      -> Can access and modify class-level data.\n",
        "\n",
        "   Static Method (@staticmethod) -\n",
        "\n",
        "      -> Doesn't access class (cls) or instance (self).\n",
        "\n",
        "      -> Just a regular function inside a class for organization.\n",
        "\n",
        "\n",
        "11.  What is method overloading in Python ?\n",
        "\n",
        "  *   Method overloading - Python does not support method overloading directly because we have various way to achive method overloading (*args, **kwargs, default argunment etc.)\n",
        "    It only happen in same class.\n",
        "\n",
        "12. What is method overriding in OOP+\n",
        "\n",
        "  *   Method overriding means redefining a method in the child that already exists in the parent class having same method signature.\n",
        "\n",
        "13. What is a property decorator in Python+\n",
        "\n",
        "  *   The @property decorator is used to define a method that behaves like an attribute.\n",
        "\n",
        "14.  Why is polymorphism important in OOP?\n",
        "\n",
        "  *   Polymorphism ( \"many forms\") is important in Object-Oriented Programming because it allows different objects to respond to the same method call in different ways — making code more flexible, reusable, and maintainable.\n",
        "\n",
        "\n",
        "15.  What is an abstract class in Python+\n",
        "\n",
        "  *   An abstract class in Python is a class that cannot be instantiated directly and is designed to be inherited by other classes. It provides a template for subclasses by defining abstract methods that must be implemented in the child class.\n",
        "\n",
        "\n",
        "\n",
        "16.  What are the advantages of OOP+\n",
        "\n",
        "  *   Advantages of OOP :\n",
        "    -> Easy to Understand : Code looks like real life (like Car, Student, Animal).\n",
        "    -> Reusability : You can reuse code using inheritance (no need to write again).\n",
        "    -> Data Protection : Important data is hidden using encapsulation.\n",
        "    -> Flexibility : One function can work in many ways using polymorphism.-> Easy to Update : You can change or add features without breaking everything.\n",
        "\n",
        "\n",
        "\n",
        "\n",
        "17. What is the difference between a class variable and an instance variable+\n",
        "\n",
        "\n",
        "     *   Class Variables  : These are the variables that are shared across all instances of a class. It is defined at the class level, outside any methods. All objects of the class share the same value for a class variable unless explicitly overridden in an object.\n",
        "\n",
        "     *   Instance Variables  : Variables that are unique to each instance (object) of a class. These are defined within the _init_ method or other instance methods. Each object maintains its own copy of instance variables, independent of other objects.\n",
        "\n",
        "\n",
        "\n",
        "18. What is multiple inheritance in Python+\n",
        "\n",
        "\n",
        "*   List item\n",
        "\n",
        "\n",
        "\n",
        "19. Explain the purpose of ‘’__str__’ and ‘__repr__’ ‘ methods in PythonH\n",
        "\n",
        "    *  __str__ → User-friendly string\n",
        "Called by print(obj) or str(obj)\n",
        "\n",
        "    * __repr__ → Developer-focused string\n",
        "Called by repr(obj) or when the object is typed directly in the console\n",
        "\n",
        "\n",
        "20. What is the significance of the ‘super()’ function in Python+\n",
        "\n",
        "\n",
        "    *   The super() function is used to call methods from a parent (super) class\n",
        "\n",
        "21. What is the significance of the __del__ method in Python+\n",
        "\n",
        "    *   The __del__ method in Python is a destructor — it's called automatically when an object is about to be destroyed (garbage collected).\n",
        "\n",
        "\n",
        "\n",
        "22. What is the difference between @staticmethod and @classmethod in Python+\n",
        "\n",
        "    *   Class Method (@classmethod)--\n",
        "\n",
        "      -> Belongs to the class, not the object.\n",
        "\n",
        "      -> First parameter is always cls (refers to the class).\n",
        "\n",
        "      -> Can access and modify class-level data.\n",
        "\n",
        "   Static Method (@staticmethod) -\n",
        "\n",
        "      -> Doesn't access class (cls) or instance (self).\n",
        "\n",
        "      -> Just a regular function inside a class for organization.\n",
        "\n",
        "\n",
        "\n",
        "23. How does polymorphism work in Python with inheritance+\n",
        "\n",
        "  *   In Python, polymorphism with inheritance means that a child class can override a method from the parent class, and the right method will be called based on the object's type — even if you're using a reference to the parent class.\n",
        "\n",
        "\n",
        "\n",
        "\n",
        "24.  What is method chaining in Python OOP ?\n",
        "\n",
        "  *   Method chaining is a technique in Python where you call multiple methods on the same object in a single line, one after another.\n",
        "\n",
        "25. What is the purpose of the __call__ method in Python?\n",
        "\n",
        "  *   The __call__ method allows an object to be called like a function.\n",
        "\n"
      ],
      "metadata": {
        "id": "MZfpAPBuTGoD"
      }
    },
    {
      "cell_type": "code",
      "execution_count": null,
      "metadata": {
        "id": "3TqVz1QeS-1b"
      },
      "outputs": [],
      "source": []
    },
    {
      "cell_type": "markdown",
      "source": [
        "1. Create a parent class Animal with a method speak() that prints a generic message. Create a child class Dog\n",
        "that overrides the speak() method to print \"Bark!\".\n",
        "\n",
        "\n",
        "\n"
      ],
      "metadata": {
        "id": "n3FeLbSqTM17"
      }
    },
    {
      "cell_type": "code",
      "source": [
        "class Animal:\n",
        "  def __init__(self):\n",
        "    print(\"This is animal class\")\n",
        "\n",
        "  def speak(self):\n",
        "    print(\"This is speak method of animal class\")\n",
        "\n",
        "class Dog(Animal):\n",
        "  def __init__(self):\n",
        "    super().__init__()\n",
        "    print(\"This is dog class\")\n",
        "\n",
        "  def speak(self):\n",
        "    print(\"Bark Bark !!!\")\n",
        "\n",
        "d1=Dog()\n",
        "d1.speak()"
      ],
      "metadata": {
        "colab": {
          "base_uri": "https://localhost:8080/"
        },
        "id": "eqy0mxxaPQFA",
        "outputId": "eb59bb94-3d9a-4659-a45b-a49535dd380e"
      },
      "execution_count": null,
      "outputs": [
        {
          "output_type": "stream",
          "name": "stdout",
          "text": [
            "This is animal class\n",
            "This is dog class\n",
            "Bark Bark !!!\n"
          ]
        }
      ]
    },
    {
      "cell_type": "markdown",
      "source": [
        "\n",
        "2. Write a program to create an abstract class Shape with a method area(). Derive classes Circle and Rectangle\n",
        "from it and implement the area() method in both."
      ],
      "metadata": {
        "id": "okn-DFmQTdJq"
      }
    },
    {
      "cell_type": "code",
      "source": [
        "from abc import ABC, abstractmethod\n",
        "\n",
        "# Abstract class\n",
        "class Shape(ABC):\n",
        "  @abstractmethod\n",
        "  def area(self):\n",
        "    pass\n",
        "\n",
        "# Derived class: Circle\n",
        "class Circle(Shape):\n",
        "  def __init__(self, radius):\n",
        "    self.radius = radius\n",
        "    print(\"Radius of circle is:\", self.radius)\n",
        "\n",
        "  def area(self):\n",
        "    a = 3.14 * self.radius ** 2\n",
        "    print(\"Area of circle is:\", a)\n",
        "\n",
        "# Derived class: Rectangle\n",
        "class Rectangle(Shape):\n",
        "  def __init__(self, length, breadth):\n",
        "    self.length = length\n",
        "    self.breadth = breadth\n",
        "    print(\"Length and breadth of rectangle are:\", self.length, \"and\", self.breadth)\n",
        "\n",
        "  def area(self):\n",
        "    a = self.length * self.breadth\n",
        "    print(\"Area of rectangle is:\", a)\n",
        "\n",
        "# Example usage\n",
        "c = Circle(5)\n",
        "c.area()\n",
        "\n",
        "r = Rectangle(4, 6)\n",
        "r.area()\n"
      ],
      "metadata": {
        "colab": {
          "base_uri": "https://localhost:8080/"
        },
        "id": "HnROv9AbQXe_",
        "outputId": "b6dc7766-40b6-45ff-ca89-fd189bbe2ca6"
      },
      "execution_count": null,
      "outputs": [
        {
          "output_type": "stream",
          "name": "stdout",
          "text": [
            "Radius of circle is: 5\n",
            "Area of circle is: 78.5\n",
            "Length and breadth of rectangle are: 4 and 6\n",
            "Area of rectangle is: 24\n"
          ]
        }
      ]
    },
    {
      "cell_type": "markdown",
      "source": [
        "\n",
        "3. Implement a multi-level inheritance scenario where a class Vehicle has an attribute type. Derive a class Car\n",
        "and further derive a class ElectricCar that adds a battery attribute."
      ],
      "metadata": {
        "id": "KGkBPEVgTajc"
      }
    },
    {
      "cell_type": "code",
      "source": [
        "# Base class\n",
        "class Vehicle:\n",
        "    def __init__(self, type):\n",
        "        self.type = type\n",
        "        print(\"Vehicle type:\", self.type)\n",
        "\n",
        "# First derived class\n",
        "class Car(Vehicle):\n",
        "    def __init__(self, type, brand):\n",
        "        super().__init__(type)\n",
        "        self.brand = brand\n",
        "        print(\"Car brand:\", self.brand)\n",
        "\n",
        "# Second derived class\n",
        "class ElectricCar(Car):\n",
        "    def __init__(self, type, brand, battery):\n",
        "        super().__init__(type, brand)\n",
        "        self.battery = battery\n",
        "        print(\"Battery capacity:\", self.battery, \"kWh\")\n",
        "\n",
        "# Example usage\n",
        "e1 = ElectricCar(\"Four Wheeler\", \"Tesla\", 130)\n"
      ],
      "metadata": {
        "id": "K-Goag39Sb2W",
        "colab": {
          "base_uri": "https://localhost:8080/"
        },
        "outputId": "e436f035-0739-44b5-c655-25b962271499"
      },
      "execution_count": 2,
      "outputs": [
        {
          "output_type": "stream",
          "name": "stdout",
          "text": [
            "Vehicle type: Four Wheeler\n",
            "Car brand: Tesla\n",
            "Battery capacity: 130 kWh\n"
          ]
        }
      ]
    },
    {
      "cell_type": "markdown",
      "source": [
        "\n",
        "4. Demonstrate polymorphism by creating a base class Bird with a method fly(). Create two derived classes\n",
        "Sparrow and Penguin that override the fly() method.\n"
      ],
      "metadata": {
        "id": "yDNEP0X1TYc_"
      }
    },
    {
      "cell_type": "code",
      "source": [
        "# Base class\n",
        "class Bird:\n",
        "    def fly(self):\n",
        "        print(\"Some birds can fly.\")\n",
        "\n",
        "# Derived class: Sparrow\n",
        "class Sparrow(Bird):\n",
        "    def fly(self):\n",
        "        print(\"Sparrow flies high in the sky.\")\n",
        "\n",
        "# Derived class: Penguin\n",
        "class Penguin(Bird):\n",
        "    def fly(self):\n",
        "        print(\"Penguins can't fly, they swim instead.\")\n",
        "\n",
        "def show_flying_ability(bird):\n",
        "    bird.fly()\n",
        "\n",
        "bird1 = Sparrow()\n",
        "bird2 = Penguin()\n",
        "\n",
        "# Use polymorphism\n",
        "show_flying_ability(bird1)\n",
        "show_flying_ability(bird2)\n"
      ],
      "metadata": {
        "id": "PivWo6XMSh9l",
        "colab": {
          "base_uri": "https://localhost:8080/"
        },
        "outputId": "dd2b81f1-0972-4dee-b91d-236befdf2397"
      },
      "execution_count": 3,
      "outputs": [
        {
          "output_type": "stream",
          "name": "stdout",
          "text": [
            "Sparrow flies high in the sky.\n",
            "Penguins can't fly, they swim instead.\n"
          ]
        }
      ]
    },
    {
      "cell_type": "markdown",
      "source": [
        "\n",
        "5. Write a program to demonstrate encapsulation by creating a class BankAccount with private attributes\n",
        "balance and methods to deposit, withdraw, and check balance."
      ],
      "metadata": {
        "id": "IylMlvHxTWcc"
      }
    },
    {
      "cell_type": "code",
      "source": [
        "class BankAccount:\n",
        "    def __init__(self, initial_balance=0):\n",
        "        self.__balance = initial_balance\n",
        "\n",
        "    # Method to deposit money\n",
        "    def deposit(self, amount):\n",
        "        if amount > 0:\n",
        "            self.__balance += amount\n",
        "            print(f\"Deposited: ₹{amount}\")\n",
        "        else:\n",
        "            print(\"Deposit amount must be positive.\")\n",
        "\n",
        "    # Method to withdraw money\n",
        "    def withdraw(self, amount):\n",
        "        if 0 < amount <= self.__balance:\n",
        "            self.__balance -= amount\n",
        "            print(f\"Withdrawn: ₹{amount}\")\n",
        "        else:\n",
        "            print(\"Insufficient balance or invalid amount.\")\n",
        "\n",
        "    def get_balance(self):\n",
        "        print(f\"Current Balance: ₹{self.__balance}\")\n",
        "        return self.__balance\n",
        "\n",
        "acc = BankAccount(1000)\n",
        "acc.deposit(900)\n",
        "acc.withdraw(300)\n",
        "acc.get_balance()\n"
      ],
      "metadata": {
        "id": "hJSeCjXgSoRF",
        "colab": {
          "base_uri": "https://localhost:8080/"
        },
        "outputId": "f74885b4-0b12-45ef-ed58-e35b70e9c29a"
      },
      "execution_count": 6,
      "outputs": [
        {
          "output_type": "stream",
          "name": "stdout",
          "text": [
            "Deposited: ₹900\n",
            "Withdrawn: ₹300\n",
            "Current Balance: ₹1600\n"
          ]
        },
        {
          "output_type": "execute_result",
          "data": {
            "text/plain": [
              "1600"
            ]
          },
          "metadata": {},
          "execution_count": 6
        }
      ]
    },
    {
      "cell_type": "markdown",
      "source": [
        "\n",
        "6. Demonstrate runtime polymorphism using a method play() in a base class Instrument. Derive classes Guitar\n",
        "and Piano that implement their own version of play().\n",
        "\n"
      ],
      "metadata": {
        "id": "AWJvGJzkTTos"
      }
    },
    {
      "cell_type": "code",
      "source": [
        "# Base class\n",
        "class Instrument:\n",
        "    def play(self):\n",
        "        print(\"Instrument is playing.\")\n",
        "\n",
        "# Derived class: Guitar\n",
        "class Guitar(Instrument):\n",
        "    def play(self):\n",
        "        print(\"Strumming the guitar \")\n",
        "\n",
        "# Derived class: Piano\n",
        "class Piano(Instrument):\n",
        "    def play(self):\n",
        "        print(\"Playing the piano \")\n",
        "\n",
        "\n",
        "def start_playing(instrument):\n",
        "    instrument.play()\n",
        "\n",
        "# Create objects\n",
        "g = Guitar()\n",
        "p = Piano()\n",
        "\n",
        "start_playing(g)\n",
        "start_playing(p)"
      ],
      "metadata": {
        "id": "D39iiDz2SriI",
        "colab": {
          "base_uri": "https://localhost:8080/"
        },
        "outputId": "f9aba814-d879-452c-8faf-394169705dc7"
      },
      "execution_count": 8,
      "outputs": [
        {
          "output_type": "stream",
          "name": "stdout",
          "text": [
            "Strumming the guitar \n",
            "Playing the piano \n"
          ]
        }
      ]
    },
    {
      "cell_type": "markdown",
      "source": [
        "\n",
        "7. Create a class MathOperations with a class method add_numbers() to add two numbers and a static\n",
        "method subtract_numbers() to subtract two numbers.\n"
      ],
      "metadata": {
        "id": "kGLnbIeaTQwT"
      }
    },
    {
      "cell_type": "code",
      "source": [
        "class MathOperations:\n",
        "    @classmethod\n",
        "    def add_numbers(cls, a, b):\n",
        "        result = a + b\n",
        "        print(f\"Addition: {a} + {b} = {result}\")\n",
        "        return result\n",
        "\n",
        "    @staticmethod\n",
        "    def subtract_numbers(a, b):\n",
        "        result = a - b\n",
        "        print(f\"Subtraction: {a} - {b} = {result}\")\n",
        "        return result\n",
        "\n",
        "MathOperations.add_numbers(10, 5)\n",
        "MathOperations.subtract_numbers(10, 5)\n"
      ],
      "metadata": {
        "id": "GGjpv9VPSv5F",
        "colab": {
          "base_uri": "https://localhost:8080/"
        },
        "outputId": "0cef83f2-69fd-4a9c-d8a3-1f68b031a053"
      },
      "execution_count": 10,
      "outputs": [
        {
          "output_type": "stream",
          "name": "stdout",
          "text": [
            "Addition: 10 + 5 = 15\n",
            "Subtraction: 10 - 5 = 5\n"
          ]
        },
        {
          "output_type": "execute_result",
          "data": {
            "text/plain": [
              "5"
            ]
          },
          "metadata": {},
          "execution_count": 10
        }
      ]
    },
    {
      "cell_type": "markdown",
      "source": [
        "8. Implement a class Person with a class method to count the total number of persons created.\n",
        "\n",
        "\n",
        "\n",
        "\n",
        "\n",
        "\n",
        "\n",
        "\n",
        "\n"
      ],
      "metadata": {
        "id": "XiiM7z2iTfAE"
      }
    },
    {
      "cell_type": "code",
      "source": [
        "class Person:\n",
        "    # Class variable to keep count\n",
        "    count = 0\n",
        "\n",
        "    def __init__(self, name):\n",
        "        self.name = name\n",
        "        Person.count += 1\n",
        "        print(f\"Person created: {self.name}\")\n",
        "\n",
        "    @classmethod\n",
        "    def total_persons(cls):\n",
        "        print(f\"Total persons created: {cls.count}\")\n",
        "        return cls.count\n",
        "\n",
        "p1 = Person(\"Alice\")\n",
        "p2 = Person(\"Bob\")\n",
        "p3 = Person(\"Charlie\")\n",
        "\n",
        "Person.total_persons()\n"
      ],
      "metadata": {
        "id": "atWxTSFESznE",
        "colab": {
          "base_uri": "https://localhost:8080/"
        },
        "outputId": "f24bd5cb-aac5-4082-9575-2a6631641345"
      },
      "execution_count": 11,
      "outputs": [
        {
          "output_type": "stream",
          "name": "stdout",
          "text": [
            "Person created: Alice\n",
            "Person created: Bob\n",
            "Person created: Charlie\n",
            "Total persons created: 3\n"
          ]
        },
        {
          "output_type": "execute_result",
          "data": {
            "text/plain": [
              "3"
            ]
          },
          "metadata": {},
          "execution_count": 11
        }
      ]
    },
    {
      "cell_type": "markdown",
      "source": [
        "\n",
        "9. Write a class Fraction with attributes numerator and denominator. Override the str method to display the\n",
        "fraction as \"numerator/denominator\"."
      ],
      "metadata": {
        "id": "497mKEWoTs-j"
      }
    },
    {
      "cell_type": "code",
      "source": [
        "class Fraction:\n",
        "    def __init__(self, numerator, denominator):\n",
        "        self.numerator = numerator\n",
        "        self.denominator = denominator\n",
        "\n",
        "    def __str__(self):\n",
        "        return f\"{self.numerator}/{self.denominator}\"\n",
        "\n",
        "f1 = Fraction(3, 4)\n",
        "f2 = Fraction(5, 2)\n",
        "\n",
        "print(f1)\n",
        "print(type(f1))\n",
        "print(f2)\n"
      ],
      "metadata": {
        "id": "PdHW5jG0S3Er",
        "colab": {
          "base_uri": "https://localhost:8080/"
        },
        "outputId": "5cee0f88-bd55-4f8d-9cf5-2ac8d8aefbe7"
      },
      "execution_count": 14,
      "outputs": [
        {
          "output_type": "stream",
          "name": "stdout",
          "text": [
            "3/4\n",
            "<class '__main__.Fraction'>\n",
            "5/2\n"
          ]
        }
      ]
    },
    {
      "cell_type": "markdown",
      "source": [
        "\n",
        "10. Demonstrate operator overloading by creating a class Vector and overriding the add method to add two\n",
        "vectors."
      ],
      "metadata": {
        "id": "E_ujVk98TrDJ"
      }
    },
    {
      "cell_type": "code",
      "source": [
        "class Vector:\n",
        "    def __init__(self, x, y):\n",
        "        self.x = x\n",
        "        self.y = y\n",
        "\n",
        "    # Overload + operator\n",
        "    def __add__(self, other):\n",
        "        return Vector(self.x + other.x, self.y + other.y)\n",
        "\n",
        "    def __str__(self):\n",
        "        return f\"({self.x}, {self.y})\"\n",
        "\n",
        "v1 = Vector(2, 3)\n",
        "v2 = Vector(4, 5)\n",
        "\n",
        "v3 = v1 + v2  # uses __add__\n",
        "\n",
        "print(\"Vector 1:\", v1)\n",
        "print(\"Vector 2:\", v2)\n",
        "print(\"Added Vector:\", v3)\n"
      ],
      "metadata": {
        "id": "jzgErf5GS6Fg",
        "colab": {
          "base_uri": "https://localhost:8080/"
        },
        "outputId": "3eafc80a-7314-49a0-9374-e5c0d0e86011"
      },
      "execution_count": 15,
      "outputs": [
        {
          "output_type": "stream",
          "name": "stdout",
          "text": [
            "Vector 1: (2, 3)\n",
            "Vector 2: (4, 5)\n",
            "Added Vector: (6, 8)\n"
          ]
        }
      ]
    },
    {
      "cell_type": "markdown",
      "source": [
        "11. Create a class Person with attributes name and age. Add a method greet() that prints \"Hello, my name is\n",
        "{name} and I am {age} years old.\""
      ],
      "metadata": {
        "id": "LphTHy1iTpPV"
      }
    },
    {
      "cell_type": "code",
      "source": [
        "class Person:\n",
        "    def __init__(self, name, age):\n",
        "        self.name = name\n",
        "        self.age = age\n",
        "\n",
        "    def greet(self):\n",
        "        print(f\"Hello, my name is {self.name} and I am {self.age} years old.\")\n",
        "\n",
        "p1 = Person(\"Aku\", 25)\n",
        "p1.greet()\n",
        "\n",
        "p2 = Person(\"Babli\", 30)\n",
        "p2.greet()\n"
      ],
      "metadata": {
        "id": "iA7Lv3GOS-YF",
        "colab": {
          "base_uri": "https://localhost:8080/"
        },
        "outputId": "a4ec2cd1-0760-4427-9f0e-dfee5ee02b6f"
      },
      "execution_count": 17,
      "outputs": [
        {
          "output_type": "stream",
          "name": "stdout",
          "text": [
            "Hello, my name is Aku and I am 25 years old.\n",
            "Hello, my name is Babli and I am 30 years old.\n"
          ]
        }
      ]
    },
    {
      "cell_type": "markdown",
      "source": [
        "\n",
        "12. Implement a class Student with attributes name and grades. Create a method average_grade() to compute\n",
        "the average of the grades.\n"
      ],
      "metadata": {
        "id": "OdjmhGvyTmqX"
      }
    },
    {
      "cell_type": "code",
      "source": [
        "class Student:\n",
        "    def __init__(self, name, grades):\n",
        "        self.name = name\n",
        "        self.grades = grades  # Expecting a list of numbers\n",
        "\n",
        "    def average_grade(self):\n",
        "        if not self.grades:\n",
        "            return 0\n",
        "        avg = sum(self.grades) / len(self.grades)\n",
        "        return avg\n",
        "\n",
        "# Example usage\n",
        "s1 = Student(\"Aku\", [85, 90, 78, 92])\n",
        "s2 = Student(\"Bobby\", [70, 68, 74])\n",
        "\n",
        "print(f\"{s1.name}'s average grade: {s1.average_grade():.2f}\")\n",
        "print(f\"{s2.name}'s average grade: {s2.average_grade():.2f}\")\n"
      ],
      "metadata": {
        "id": "PGulfBKLTBvO",
        "colab": {
          "base_uri": "https://localhost:8080/"
        },
        "outputId": "e6fe9d1e-1396-4dfb-e94b-9294626d7699"
      },
      "execution_count": 18,
      "outputs": [
        {
          "output_type": "stream",
          "name": "stdout",
          "text": [
            "Aku's average grade: 86.25\n",
            "Bobby's average grade: 70.67\n"
          ]
        }
      ]
    },
    {
      "cell_type": "markdown",
      "source": [
        "\n",
        "13. Create a class Rectangle with methods set_dimensions() to set the dimensions and area() to calculate the\n",
        "area.\n",
        "\n"
      ],
      "metadata": {
        "id": "phUQp-0FTkqY"
      }
    },
    {
      "cell_type": "code",
      "source": [
        "class Rectangle:\n",
        "    def __init__(self):\n",
        "        self.length = 0\n",
        "        self.width = 0\n",
        "\n",
        "    def set_dimensions(self, length, width):\n",
        "        self.length = length\n",
        "        self.width = width\n",
        "        print(f\"Dimensions set: Length = {self.length}, Width = {self.width}\")\n",
        "\n",
        "    def area(self):\n",
        "        return self.length * self.width\n",
        "\n",
        "\n",
        "r1 = Rectangle()\n",
        "r1.set_dimensions(5, 3)\n",
        "print(\"Area of rectangle:\", r1.area())\n"
      ],
      "metadata": {
        "id": "CBaxz4RLTEWT",
        "colab": {
          "base_uri": "https://localhost:8080/"
        },
        "outputId": "c7691562-e6db-446a-8157-f9d040de56c2"
      },
      "execution_count": 24,
      "outputs": [
        {
          "output_type": "stream",
          "name": "stdout",
          "text": [
            "Dimensions set: Length = 5, Width = 3\n",
            "Area of rectangle: 15\n"
          ]
        }
      ]
    },
    {
      "cell_type": "markdown",
      "source": [
        "\n",
        "14. Create a class Employee with a method calculate_salary() that computes the salary based on hours worked\n",
        "and hourly rate. Create a derived class Manager that adds a bonus to the salary"
      ],
      "metadata": {
        "id": "G4upMNV-TiwM"
      }
    },
    {
      "cell_type": "code",
      "source": [
        "# Base class\n",
        "class Employee:\n",
        "    def __init__(self, name, hours_worked, hourly_rate):\n",
        "        self.name = name\n",
        "        self.hours_worked = hours_worked\n",
        "        self.hourly_rate = hourly_rate\n",
        "\n",
        "    def calculate_salary(self):\n",
        "        salary = self.hours_worked * self.hourly_rate\n",
        "        return salary\n",
        "\n",
        "# Derived class\n",
        "class Manager(Employee):\n",
        "    def __init__(self, name, hours_worked, hourly_rate, bonus):\n",
        "        super().__init__(name, hours_worked, hourly_rate)\n",
        "        self.bonus = bonus\n",
        "\n",
        "    def calculate_salary(self):\n",
        "        base_salary = super().calculate_salary()\n",
        "        total_salary = base_salary + self.bonus\n",
        "        return total_salary\n",
        "\n",
        "# Example usage\n",
        "e1 = Employee(\"Alice\", 40, 25)\n",
        "print(f\"{e1.name}'s salary: ₹{e1.calculate_salary()}\")\n",
        "\n",
        "m1 = Manager(\"Bob\", 40, 30, 5000)\n",
        "print(f\"{m1.name}'s salary with bonus: ₹{m1.calculate_salary()}\")\n"
      ],
      "metadata": {
        "id": "MgJyLfM2TJeK",
        "colab": {
          "base_uri": "https://localhost:8080/"
        },
        "outputId": "4b7a33ff-4a6f-4ca7-99dc-c9633108cd3f"
      },
      "execution_count": 23,
      "outputs": [
        {
          "output_type": "stream",
          "name": "stdout",
          "text": [
            "Alice's salary: ₹1000\n",
            "Bob's salary with bonus: ₹6200\n"
          ]
        }
      ]
    },
    {
      "cell_type": "markdown",
      "source": [
        "15. Create a class Product with attributes name, price, and quantity. Implement a method total_price() that\n",
        "calculates the total price of the product.\n",
        "\n",
        "\n",
        "\n",
        "\n",
        "\n"
      ],
      "metadata": {
        "id": "EK0C0lo8TwVE"
      }
    },
    {
      "cell_type": "code",
      "source": [
        "class Product:\n",
        "    def __init__(self, name, price, quantity):\n",
        "        self.name = name\n",
        "        self.price = price\n",
        "        self.quantity = quantity\n",
        "\n",
        "    def total_price(self):\n",
        "        return self.price * self.quantity\n",
        "\n",
        "# Example usage\n",
        "p1 = Product(\"Laptop\", 50000, 2)\n",
        "p2 = Product(\"Mouse\", 500, 4)\n",
        "\n",
        "print(f\"Total price for {p1.name}: ₹{p1.total_price()}\")\n",
        "print(f\"Total price for {p2.name}: ₹{p2.total_price()}\")\n"
      ],
      "metadata": {
        "id": "62K2dwRATNTy",
        "colab": {
          "base_uri": "https://localhost:8080/"
        },
        "outputId": "1519e58e-70d8-4425-9899-234017aa7afc"
      },
      "execution_count": 22,
      "outputs": [
        {
          "output_type": "stream",
          "name": "stdout",
          "text": [
            "Total price for Laptop: ₹100000\n",
            "Total price for Mouse: ₹2000\n"
          ]
        }
      ]
    },
    {
      "cell_type": "markdown",
      "source": [
        "\n",
        "16. Create a class Animal with an abstract method sound(). Create two derived classes Cow and Sheep that\n",
        "implement the sound() method."
      ],
      "metadata": {
        "id": "PpVB-p8HT2NF"
      }
    },
    {
      "cell_type": "code",
      "source": [
        "from abc import ABC, abstractmethod\n",
        "\n",
        "# Abstract base class\n",
        "class Animal(ABC):\n",
        "    @abstractmethod\n",
        "    def sound(self):\n",
        "        pass\n",
        "\n",
        "# Derived class: Cow\n",
        "class Cow(Animal):\n",
        "    def sound(self):\n",
        "        print(\"Cow says: Moo\")\n",
        "\n",
        "# Derived class: Sheep\n",
        "class Sheep(Animal):\n",
        "    def sound(self):\n",
        "        print(\"Sheep says: Baa\")\n",
        "\n",
        "\n",
        "a1 = Cow()\n",
        "a2 = Sheep()\n",
        "\n",
        "a1.sound()\n",
        "a2.sound()"
      ],
      "metadata": {
        "id": "ck4ucLTZTTgX",
        "colab": {
          "base_uri": "https://localhost:8080/"
        },
        "outputId": "be84dee2-becf-4845-f623-621d2045a231"
      },
      "execution_count": 21,
      "outputs": [
        {
          "output_type": "stream",
          "name": "stdout",
          "text": [
            "Cow says: Moo\n",
            "Sheep says: Baa\n"
          ]
        }
      ]
    },
    {
      "cell_type": "markdown",
      "source": [
        "\n",
        "17. Create a class Book with attributes title, author, and year_published. Add a method get_book_info() that\n",
        "returns a formatted string with the book's details."
      ],
      "metadata": {
        "id": "lPJ_Mlh-T0IR"
      }
    },
    {
      "cell_type": "code",
      "source": [
        "class Book:\n",
        "    def __init__(self, title, author, year_published):\n",
        "        self.title = title\n",
        "        self.author = author\n",
        "        self.year_published = year_published\n",
        "\n",
        "    def get_book_info(self):\n",
        "        return f\"'{self.title}' by {self.author} (Published in {self.year_published})\"\n",
        "\n",
        "\n",
        "book1 = Book(\"To Kill a Mockingbird\", \"Harper Lee\", 1960)\n",
        "book2 = Book(\"1984\", \"George Orwell\", 1949)\n",
        "\n",
        "print(book1.get_book_info())\n",
        "print(book2.get_book_info())\n"
      ],
      "metadata": {
        "id": "-zZgNoPQTWao",
        "colab": {
          "base_uri": "https://localhost:8080/"
        },
        "outputId": "7d446c84-1535-4d9b-ff00-a6d022911039"
      },
      "execution_count": 20,
      "outputs": [
        {
          "output_type": "stream",
          "name": "stdout",
          "text": [
            "'To Kill a Mockingbird' by Harper Lee (Published in 1960)\n",
            "'1984' by George Orwell (Published in 1949)\n"
          ]
        }
      ]
    },
    {
      "cell_type": "markdown",
      "source": [
        "\n",
        "18. Create a class House with attributes address and price. Create a derived class Mansion that adds an\n",
        "attribute number_of_rooms."
      ],
      "metadata": {
        "id": "9oWATlsCTxyI"
      }
    },
    {
      "cell_type": "code",
      "source": [
        "# Base class\n",
        "class House:\n",
        "    def __init__(self, address, price):\n",
        "        self.address = address\n",
        "        self.price = price\n",
        "\n",
        "    def display_info(self):\n",
        "        print(f\"Address: {self.address}\")\n",
        "        print(f\"Price: ₹{self.price}\")\n",
        "\n",
        "\n",
        "class Mansion(House):\n",
        "    def __init__(self, address, price, number_of_rooms):\n",
        "        super().__init__(address, price)\n",
        "        self.number_of_rooms = number_of_rooms\n",
        "\n",
        "    def display_info(self):\n",
        "        super().display_info()\n",
        "        print(f\"Number of Rooms: {self.number_of_rooms}\")\n",
        "\n",
        "m = Mansion(\"123 AAAA ,Mumbai\", 150000000, 12)\n",
        "m.display_info()\n"
      ],
      "metadata": {
        "id": "rwdb9An8TXxa",
        "colab": {
          "base_uri": "https://localhost:8080/"
        },
        "outputId": "8e418587-a132-477f-8dae-5d256e7e7799"
      },
      "execution_count": 19,
      "outputs": [
        {
          "output_type": "stream",
          "name": "stdout",
          "text": [
            "Address: 123 AAAA ,Mumbai\n",
            "Price: ₹150000000\n",
            "Number of Rooms: 12\n"
          ]
        }
      ]
    },
    {
      "cell_type": "code",
      "source": [],
      "metadata": {
        "id": "lU2SkWE_Ecpw"
      },
      "execution_count": null,
      "outputs": []
    }
  ]
}